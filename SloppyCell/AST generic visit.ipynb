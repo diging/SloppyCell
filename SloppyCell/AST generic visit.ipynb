{
 "cells": [
  {
   "cell_type": "code",
   "execution_count": 26,
   "metadata": {},
   "outputs": [],
   "source": [
    "from ast import *"
   ]
  },
  {
   "cell_type": "code",
   "execution_count": 39,
   "metadata": {},
   "outputs": [],
   "source": [
    "x = \"(4)/3/7\""
   ]
  },
  {
   "cell_type": "code",
   "execution_count": 40,
   "metadata": {},
   "outputs": [],
   "source": [
    "def strip_parse(x):\n",
    "    return parse(x)\n",
    "nums = []\n",
    "denoms = []\n",
    "class PowForDoubleStar(NodeVisitor):\n",
    "    def visit_BinOp(self, node):\n",
    "        node.left = self.visit(node.left)\n",
    "        node.right = self.visit(node.right)\n",
    "        print(node.op)\n",
    "        if not (isinstance(node.op, Mult) or isinstance(node.op, Div)):\n",
    "            nums.append(node.value)\n",
    "           \n",
    "#         if isinstance(node.left, Div) or isinstance(node.left, Mult):\n",
    "#             print(\"entered here\")\n",
    "#         else:\n",
    "#             nums.append(node.left)\n",
    "#         if isinstance(node.right, Div) or isinstance(node.right, Mult):\n",
    "#             if isinstance(node, Mult):\n",
    "#                 _collect_num_denom(node.right, nums, denoms)\n",
    "#             elif isinstance(node, Div):\n",
    "#                 _collect_num_denom(node.right, denoms, nums)\n",
    "#         else:\n",
    "#             if isinstance(node, Mult):\n",
    "#                 nums.append(node.right)\n",
    "#             elif isinstance(node, Div):\n",
    "#                 denoms.append(node.right)\n",
    "        self.generic_visit(node)"
   ]
  },
  {
   "cell_type": "code",
   "execution_count": 41,
   "metadata": {},
   "outputs": [
    {
     "name": "stdout",
     "output_type": "stream",
     "text": [
      "Module(body=[Expr(value=BinOp(left=BinOp(left=Num(n=4), op=Div(), right=Num(n=3)), op=Div(), right=Num(n=7)))])\n",
      "<_ast.Div object at 0x7efdb6582190>\n",
      "<_ast.Div object at 0x7efdb6582190>\n",
      "[]\n",
      "[]\n"
     ]
    }
   ],
   "source": [
    "tree = strip_parse(x)\n",
    "print(dump(tree))\n",
    "PowForDoubleStar().visit(tree)\n",
    "print(nums)\n",
    "print(denoms)\n",
    "if not isinstance(ast, BinOp):\n",
    "        nums.append(ast.value)\n",
    "        return\n",
    "    if (isinstance(ast.op, Div) or isinstance(ast.op, Mult)):\n",
    "        if isinstance(ast.left, BinOp):\n",
    "            _collect_num_denom(ast.left, nums, denoms)\n",
    "        else:\n",
    "            nums.append(ast.left.value)\n",
    "            \n",
    "        if isinstance(ast.right, BinOp):\n",
    "            if isinstance(ast.op, Mult):\n",
    "                _collect_num_denom(ast.right, nums, denoms)\n",
    "            elif isinstance(ast.op, Div):\n",
    "                _collect_num_denom(ast.right, denoms, nums)\n",
    "        else:\n",
    "            if isinstance(ast.op, Mult):\n",
    "                nums.append(ast.right.value)\n",
    "            elif isinstance(ast.op, Div):\n",
    "                denoms.append(ast.right.value)"
   ]
  }
 ],
 "metadata": {
  "kernelspec": {
   "display_name": "Python 3",
   "language": "python",
   "name": "python3"
  },
  "language_info": {
   "codemirror_mode": {
    "name": "ipython",
    "version": 2
   },
   "file_extension": ".py",
   "mimetype": "text/x-python",
   "name": "python",
   "nbconvert_exporter": "python",
   "pygments_lexer": "ipython2",
   "version": "2.7.18"
  }
 },
 "nbformat": 4,
 "nbformat_minor": 2
}
