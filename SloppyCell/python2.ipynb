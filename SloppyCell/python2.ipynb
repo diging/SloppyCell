{
 "cells": [
  {
   "cell_type": "code",
   "execution_count": 1,
   "metadata": {},
   "outputs": [
    {
     "name": "stderr",
     "output_type": "stream",
     "text": [
      "/home/sudheera/dev/env/lib/python2.7/site-packages/ipykernel_launcher.py:1: DeprecationWarning: The compiler package is deprecated and removed in Python 3.x.\n",
      "  \"\"\"Entry point for launching an IPython kernel.\n"
     ]
    }
   ],
   "source": [
    "import compiler\n",
    "from compiler.ast import *\n",
    "\n",
    "def strip_parse(expr):\n",
    "    return compiler.parse(expr).node.nodes[0].expr"
   ]
  },
  {
   "cell_type": "code",
   "execution_count": 8,
   "metadata": {},
   "outputs": [],
   "source": [
    "def sub_for_func(expr, func_name, func_vars, func_expr):\n",
    "    \"\"\"\n",
    "    Return a string with the function func_name substituted for its exploded \n",
    "    form.\n",
    "    \n",
    "    func_name: The name of the function.\n",
    "    func_vars: A sequence variables used by the function expression\n",
    "    func_expr: The expression for the function.\n",
    "    For example:\n",
    "        If f(x, y, z) = sqrt(z)*x*y-z\n",
    "        func_name = 'f'\n",
    "        func_vars = ['x', 'y', 'z']\n",
    "        func_expr = 'sqrt(z)*x*y-z'\n",
    "\n",
    "    As a special case, functions that take a variable number of arguments can\n",
    "    use '*' for func_vars.\n",
    "    For example:\n",
    "        sub_for_func('or_func(or_func(A,D),B,C)', 'or_func', '*', 'x or y')\n",
    "        yields '(A or D) or B or C'\n",
    "    \"\"\"\n",
    "    ast = strip_parse(expr)\n",
    "    func_name_ast = strip_parse(func_name)\n",
    "    if not isinstance(func_name_ast, Name):\n",
    "        raise ValueError('Function name is not a simple name.')\n",
    "    func_name = func_name_ast.name\n",
    "\n",
    "    func_expr_ast = strip_parse(func_expr)\n",
    "    # We can strip_parse  the '*', so we special case it here.\n",
    "    if func_vars == '*':\n",
    "        if not hasattr(func_expr_ast, 'nodes'):\n",
    "            raise ValueError(\"Top-level function in %s does not appear to \"\n",
    "                             \"accept variable number of arguments. (It has no \"\n",
    "                             \"'nodes' attribute.)\" % func_expr)\n",
    "\n",
    "        func_var_names = '*'\n",
    "    else:\n",
    "        func_vars_ast = [strip_parse(var) for var in func_vars]\n",
    "        for var_ast in func_vars_ast:\n",
    "            if not isinstance(var_ast, Name):\n",
    "                raise ValueError('Function variable is not a simple name.')\n",
    "        func_var_names = [getattr(var_ast, 'name') for var_ast in func_vars_ast]\n",
    "\n",
    "    ast = _sub_for_func_ast(ast, func_name, func_var_names, func_expr_ast)\n",
    "#     simple = Simplify._simplify_ast(ast)\n",
    "    return ast\n",
    "\n",
    "def _sub_for_func_ast(ast, func_name, func_vars, func_expr_ast):\n",
    "    \"\"\"\n",
    "    Return an ast with the function func_name substituted out.\n",
    "    \"\"\"\n",
    "    if isinstance(ast, CallFunc) and ast2str(ast.node) == func_name\\\n",
    "       and func_vars == '*':\n",
    "        working_ast = copy.deepcopy(func_expr_ast)\n",
    "        new_args = [_sub_for_func_ast(arg_ast, func_name, func_vars, \n",
    "                                      func_expr_ast) for arg_ast in ast.args]\n",
    "        # This subs out the arguments of the original function.\n",
    "        working_ast.nodes = new_args\n",
    "        return working_ast\n",
    "    if isinstance(ast, CallFunc) and ast2str(ast.node) == func_name\\\n",
    "       and len(ast.args) == len(func_vars):\n",
    "        # If our ast is the function we're looking for, we take the ast\n",
    "        #  for the function expression, substitute for its arguments, and\n",
    "        #  return\n",
    "        working_ast = copy.deepcopy(func_expr_ast)\n",
    "        mapping = {}\n",
    "        for var_name, arg_ast in zip(func_vars, ast.args):\n",
    "            subbed_arg_ast = _sub_for_func_ast(arg_ast, func_name, func_vars, \n",
    "                                               func_expr_ast)\n",
    "            mapping[var_name] = subbed_arg_ast\n",
    "        _sub_subtrees_for_vars(working_ast, mapping)\n",
    "        return working_ast\n",
    "    ast = AST.recurse_down_tree(ast, _sub_for_func_ast, \n",
    "                                (func_name, func_vars, func_expr_ast,))\n",
    "    return ast"
   ]
  },
  {
   "cell_type": "code",
   "execution_count": 9,
   "metadata": {},
   "outputs": [],
   "source": [
    "def test_sub_for_func():\n",
    "    cases = [('f(x)', 'f', 'y', 'y+1','x+1')]\n",
    "\n",
    "    for expr, func_name, func_vars, func_expr, answer in cases:\n",
    "        print\n",
    "        subbed = sub_for_func(expr, func_name, func_vars,\n",
    "                                           func_expr)\n",
    "        assert eval(answer) == eval(subbed)"
   ]
  },
  {
   "cell_type": "code",
   "execution_count": 10,
   "metadata": {},
   "outputs": [
    {
     "name": "stdout",
     "output_type": "stream",
     "text": [
      "\n"
     ]
    },
    {
     "ename": "NameError",
     "evalue": "global name 'ast2str' is not defined",
     "output_type": "error",
     "traceback": [
      "\u001b[0;31m---------------------------------------------------------------------------\u001b[0m",
      "\u001b[0;31mNameError\u001b[0m                                 Traceback (most recent call last)",
      "\u001b[0;32m<ipython-input-10-4ca492db1c4f>\u001b[0m in \u001b[0;36m<module>\u001b[0;34m()\u001b[0m\n\u001b[0;32m----> 1\u001b[0;31m \u001b[0mtest_sub_for_func\u001b[0m\u001b[0;34m(\u001b[0m\u001b[0;34m)\u001b[0m\u001b[0;34m\u001b[0m\u001b[0m\n\u001b[0m",
      "\u001b[0;32m<ipython-input-9-db07b880f603>\u001b[0m in \u001b[0;36mtest_sub_for_func\u001b[0;34m()\u001b[0m\n\u001b[1;32m      5\u001b[0m         \u001b[0;32mprint\u001b[0m\u001b[0;34m\u001b[0m\u001b[0m\n\u001b[1;32m      6\u001b[0m         subbed = sub_for_func(expr, func_name, func_vars,\n\u001b[0;32m----> 7\u001b[0;31m                                            func_expr)\n\u001b[0m\u001b[1;32m      8\u001b[0m         \u001b[0;32massert\u001b[0m \u001b[0meval\u001b[0m\u001b[0;34m(\u001b[0m\u001b[0manswer\u001b[0m\u001b[0;34m)\u001b[0m \u001b[0;34m==\u001b[0m \u001b[0meval\u001b[0m\u001b[0;34m(\u001b[0m\u001b[0msubbed\u001b[0m\u001b[0;34m)\u001b[0m\u001b[0;34m\u001b[0m\u001b[0m\n",
      "\u001b[0;32m<ipython-input-8-48af9ba3b1d7>\u001b[0m in \u001b[0;36msub_for_func\u001b[0;34m(expr, func_name, func_vars, func_expr)\u001b[0m\n\u001b[1;32m     41\u001b[0m         \u001b[0mfunc_var_names\u001b[0m \u001b[0;34m=\u001b[0m \u001b[0;34m[\u001b[0m\u001b[0mgetattr\u001b[0m\u001b[0;34m(\u001b[0m\u001b[0mvar_ast\u001b[0m\u001b[0;34m,\u001b[0m \u001b[0;34m'name'\u001b[0m\u001b[0;34m)\u001b[0m \u001b[0;32mfor\u001b[0m \u001b[0mvar_ast\u001b[0m \u001b[0;32min\u001b[0m \u001b[0mfunc_vars_ast\u001b[0m\u001b[0;34m]\u001b[0m\u001b[0;34m\u001b[0m\u001b[0m\n\u001b[1;32m     42\u001b[0m \u001b[0;34m\u001b[0m\u001b[0m\n\u001b[0;32m---> 43\u001b[0;31m     \u001b[0mast\u001b[0m \u001b[0;34m=\u001b[0m \u001b[0m_sub_for_func_ast\u001b[0m\u001b[0;34m(\u001b[0m\u001b[0mast\u001b[0m\u001b[0;34m,\u001b[0m \u001b[0mfunc_name\u001b[0m\u001b[0;34m,\u001b[0m \u001b[0mfunc_var_names\u001b[0m\u001b[0;34m,\u001b[0m \u001b[0mfunc_expr_ast\u001b[0m\u001b[0;34m)\u001b[0m\u001b[0;34m\u001b[0m\u001b[0m\n\u001b[0m\u001b[1;32m     44\u001b[0m \u001b[0;31m#     simple = Simplify._simplify_ast(ast)\u001b[0m\u001b[0;34m\u001b[0m\u001b[0;34m\u001b[0m\u001b[0m\n\u001b[1;32m     45\u001b[0m     \u001b[0;32mreturn\u001b[0m \u001b[0mast\u001b[0m\u001b[0;34m\u001b[0m\u001b[0m\n",
      "\u001b[0;32m<ipython-input-8-48af9ba3b1d7>\u001b[0m in \u001b[0;36m_sub_for_func_ast\u001b[0;34m(ast, func_name, func_vars, func_expr_ast)\u001b[0m\n\u001b[1;32m     49\u001b[0m     \u001b[0mReturn\u001b[0m \u001b[0man\u001b[0m \u001b[0mast\u001b[0m \u001b[0;32mwith\u001b[0m \u001b[0mthe\u001b[0m \u001b[0mfunction\u001b[0m \u001b[0mfunc_name\u001b[0m \u001b[0msubstituted\u001b[0m \u001b[0mout\u001b[0m\u001b[0;34m.\u001b[0m\u001b[0;34m\u001b[0m\u001b[0m\n\u001b[1;32m     50\u001b[0m     \"\"\"\n\u001b[0;32m---> 51\u001b[0;31m     \u001b[0;32mif\u001b[0m \u001b[0misinstance\u001b[0m\u001b[0;34m(\u001b[0m\u001b[0mast\u001b[0m\u001b[0;34m,\u001b[0m \u001b[0mCallFunc\u001b[0m\u001b[0;34m)\u001b[0m \u001b[0;32mand\u001b[0m \u001b[0mast2str\u001b[0m\u001b[0;34m(\u001b[0m\u001b[0mast\u001b[0m\u001b[0;34m.\u001b[0m\u001b[0mnode\u001b[0m\u001b[0;34m)\u001b[0m \u001b[0;34m==\u001b[0m \u001b[0mfunc_name\u001b[0m       \u001b[0;32mand\u001b[0m \u001b[0mfunc_vars\u001b[0m \u001b[0;34m==\u001b[0m \u001b[0;34m'*'\u001b[0m\u001b[0;34m:\u001b[0m\u001b[0;34m\u001b[0m\u001b[0m\n\u001b[0m\u001b[1;32m     52\u001b[0m         \u001b[0mworking_ast\u001b[0m \u001b[0;34m=\u001b[0m \u001b[0mcopy\u001b[0m\u001b[0;34m.\u001b[0m\u001b[0mdeepcopy\u001b[0m\u001b[0;34m(\u001b[0m\u001b[0mfunc_expr_ast\u001b[0m\u001b[0;34m)\u001b[0m\u001b[0;34m\u001b[0m\u001b[0m\n\u001b[1;32m     53\u001b[0m         new_args = [_sub_for_func_ast(arg_ast, func_name, func_vars, \n",
      "\u001b[0;31mNameError\u001b[0m: global name 'ast2str' is not defined"
     ]
    }
   ],
   "source": [
    "test_sub_for_func()"
   ]
  },
  {
   "cell_type": "code",
   "execution_count": 15,
   "metadata": {},
   "outputs": [
    {
     "name": "stdout",
     "output_type": "stream",
     "text": [
      "Div((Add((Const(2), Const(4))), Add((Const(3), Const(8)))))\n"
     ]
    }
   ],
   "source": [
    "x = \"(2+4)/(3+8)\"\n",
    "def _collect_num_denom(ast, nums, denoms):\n",
    "    \"\"\"\n",
    "    Append to nums and denoms, respectively, the nodes in the numerator and \n",
    "    denominator of an AST.\n",
    "    \"\"\"\n",
    "    if not (isinstance(ast, Mul) or isinstance(ast, Div)):\n",
    "        # If ast is not multiplication or division, just put it in nums.\n",
    "        nums.append(ast)\n",
    "        return\n",
    "\n",
    "    if isinstance(ast.left, Div) or isinstance(ast.left, Mul):\n",
    "        # If the left argument is a multiplication or division, descend into\n",
    "        #  it, otherwise it is in the numerator.\n",
    "        _collect_num_denom(ast.left, nums, denoms)\n",
    "    else:\n",
    "        nums.append(ast.left)\n",
    "\n",
    "    if isinstance(ast.right, Div) or isinstance(ast.right, Mul):\n",
    "        # If the left argument is a multiplication or division, descend into\n",
    "        #  it, otherwise it is in the denominator.\n",
    "        if isinstance(ast, Mul):\n",
    "            _collect_num_denom(ast.right, nums, denoms)\n",
    "        elif isinstance(ast, Div):\n",
    "            # Note that when we descend into the denominator of a Div, we want \n",
    "            #  to swap our nums and denoms lists\n",
    "            _collect_num_denom(ast.right, denoms, nums)\n",
    "    else:\n",
    "        if isinstance(ast, Mul):\n",
    "            nums.append(ast.right)\n",
    "        elif isinstance(ast, Div):\n",
    "            denoms.append(ast.right)\n",
    "print strip_parse(x)\n",
    "_collect_num_denom(strip_parse(x), [], [])"
   ]
  },
  {
   "cell_type": "code",
   "execution_count": 19,
   "metadata": {},
   "outputs": [
    {
     "name": "stdout",
     "output_type": "stream",
     "text": [
      "Compare(Name('x'), [('<', Add((Const(3), Compare(Name('y'), [('>', Const(4))]))))])\n",
      "333333333333333333\n",
      "Compare(Name('x'), [('<', Add((Const(3), Compare(Name('y'), [('>', Const(4))]))))])\n"
     ]
    }
   ],
   "source": [
    "x=strip_parse('x < 3 + (y > 4)')\n",
    "y=strip_parse('x < (3 + (y > 4))')\n",
    "if x is y:\n",
    "    print True\n",
    "print(x)\n",
    "print(\"333333333333333333\")\n",
    "print(y)\n",
    "# for op, el in x.ops:\n",
    "#     print( el)"
   ]
  },
  {
   "cell_type": "code",
   "execution_count": 31,
   "metadata": {},
   "outputs": [
    {
     "name": "stdout",
     "output_type": "stream",
     "text": [
      "Or([Name('x'), Name('y')])\n",
      "[Name('x'), Name('y')]\n"
     ]
    }
   ],
   "source": [
    "x=strip_parse('x or y')\n",
    "print(x)\n",
    "print(x.nodes)"
   ]
  },
  {
   "cell_type": "code",
   "execution_count": 32,
   "metadata": {},
   "outputs": [
    {
     "name": "stdout",
     "output_type": "stream",
     "text": [
      "CallFunc(Name('f'), [Name('x')], None, None)\n",
      "Name('f')\n"
     ]
    }
   ],
   "source": [
    "x=strip_parse('f(x)')\n",
    "print(x)\n",
    "print(x.node)"
   ]
  },
  {
   "cell_type": "code",
   "execution_count": null,
   "metadata": {},
   "outputs": [],
   "source": [
    "x=strip_parse('f(x)')\n",
    "print(x)\n",
    "print(x.node)"
   ]
  },
  {
   "cell_type": "code",
   "execution_count": 52,
   "metadata": {},
   "outputs": [
    {
     "data": {
      "text/plain": [
       "Name('b')"
      ]
     },
     "execution_count": 52,
     "metadata": {},
     "output_type": "execute_result"
    }
   ],
   "source": [
    "x=strip_parse(\"-b\")\n",
    "x.expr"
   ]
  },
  {
   "cell_type": "code",
   "execution_count": 40,
   "metadata": {},
   "outputs": [
    {
     "data": {
      "text/plain": [
       "Compare(Name('a'), [('&&', Name('b'))])"
      ]
     },
     "execution_count": 40,
     "metadata": {},
     "output_type": "execute_result"
    }
   ],
   "source": [
    "ast = strip_parse(\"a and b\")\n",
    "ops = [('&&', node) for node in ast.nodes[1:]]\n",
    "ast = Compare(ast.nodes[0], ops)\n",
    "ast"
   ]
  },
  {
   "cell_type": "code",
   "execution_count": 44,
   "metadata": {},
   "outputs": [
    {
     "data": {
      "text/plain": [
       "Div((Mul((UnarySub(Name('num')), Name('denom_d'))), Power((Name('denom'), Const(2)))))"
      ]
     },
     "execution_count": 44,
     "metadata": {},
     "output_type": "execute_result"
    }
   ],
   "source": [
    "z = strip_parse('-num * denom_d / denom ** 2')\n",
    "z\n",
    "# Div((Mult((USub(num), denom_d)), Pow((denom, Constant(2)))))"
   ]
  },
  {
   "cell_type": "code",
   "execution_count": 47,
   "metadata": {},
   "outputs": [
    {
     "name": "stdout",
     "output_type": "stream",
     "text": [
      "CallFunc(Name('f'), [Name('x')], None, None)\n"
     ]
    },
    {
     "data": {
      "text/plain": [
       "Name('f')"
      ]
     },
     "execution_count": 47,
     "metadata": {},
     "output_type": "execute_result"
    }
   ],
   "source": [
    "x = strip_parse('f(x)')\n",
    "print(x)\n",
    "x.node"
   ]
  },
  {
   "cell_type": "code",
   "execution_count": null,
   "metadata": {},
   "outputs": [],
   "source": [
    "Mul((Mul((Name('y'), Power((Name('x'), Sub((Name('y'), Const(1))))))), Const(1)))"
   ]
  },
  {
   "cell_type": "code",
   "execution_count": 50,
   "metadata": {},
   "outputs": [
    {
     "name": "stdout",
     "output_type": "stream",
     "text": [
      "Mul((Mul((Name('y'), Power((Name('x'), Sub((Name('y'), Const(1))))))), Const(1)))\n"
     ]
    }
   ],
   "source": [
    "x = strip_parse('y * x ** (y - 1) * 1')\n",
    "print x"
   ]
  },
  {
   "cell_type": "code",
   "execution_count": 2,
   "metadata": {},
   "outputs": [
    {
     "name": "stdout",
     "output_type": "stream",
     "text": [
      "And([Name('a'), Name('b')])\n"
     ]
    }
   ],
   "source": [
    "z=strip_parse('a and b')\n",
    "print((z))"
   ]
  },
  {
   "cell_type": "code",
   "execution_count": 6,
   "metadata": {},
   "outputs": [
    {
     "name": "stdout",
     "output_type": "stream",
     "text": [
      "Subscript(Name('l'), 'OP_APPLY', [Sliceobj([Const(1), Const(2)]), Const(3)])\n",
      "('subs', [Sliceobj([Const(1), Const(2)]), Const(3)])\n",
      "('subs', Name('l'))\n"
     ]
    }
   ],
   "source": [
    "x =  strip_parse('l[1:2, 3]')\n",
    "print(x)\n",
    "print(\"subs\", x.subs)\n",
    "print(\"subs\", x.expr)"
   ]
  },
  {
   "cell_type": "code",
   "execution_count": 14,
   "metadata": {},
   "outputs": [
    {
     "name": "stdout",
     "output_type": "stream",
     "text": [
      "And([Compare(Name('a'), [('>', Name('b'))]), Compare(Const(1), [('>', Const(2))]), Const(1)])\n",
      "[Compare(Name('a'), [('>', Name('b'))]), Compare(Const(1), [('>', Const(2))]), Const(1)]\n",
      "[('&&', Compare(Const(1), [('>', Const(2))])), ('&&', Const(1))]\n",
      "dddddddddd\n",
      "Compare(Compare(Name('a'), [('>', Name('b'))]), [('&&', Compare(Const(1), [('>', Const(2))])), ('&&', Const(1))])\n"
     ]
    }
   ],
   "source": [
    "z=strip_parse('a > b and 1 > 2 and 1')\n",
    "print((z))\n",
    "print(z.nodes)\n",
    "nodes = z.nodes\n",
    "ops = [('&&', node) for node in nodes[1:]]\n",
    "print(ops)\n",
    "ast = Compare(nodes[0], ops)\n",
    "print(\"dddddddddd\")\n",
    "print(ast)"
   ]
  },
  {
   "cell_type": "code",
   "execution_count": 4,
   "metadata": {},
   "outputs": [
    {
     "name": "stdout",
     "output_type": "stream",
     "text": [
      "Slice(Name('l'), 'OP_APPLY', Const(1), Const(2))\n",
      "Name('l')\n"
     ]
    }
   ],
   "source": [
    "x =  strip_parse('l[1:2]')\n",
    "print(x)\n",
    "print(x.expr)"
   ]
  },
  {
   "cell_type": "code",
   "execution_count": 7,
   "metadata": {},
   "outputs": [
    {
     "name": "stdout",
     "output_type": "stream",
     "text": [
      "[None, None, 1, 2, 3]\n"
     ]
    }
   ],
   "source": [
    "q= [1, None, 2, 3, None]\n",
    "q.sort()\n",
    "print(q)"
   ]
  },
  {
   "cell_type": "code",
   "execution_count": null,
   "metadata": {},
   "outputs": [],
   "source": []
  },
  {
   "cell_type": "code",
   "execution_count": 8,
   "metadata": {},
   "outputs": [
    {
     "name": "stdout",
     "output_type": "stream",
     "text": [
      "}\n"
     ]
    }
   ],
   "source": [
    "import os\n",
    "c_body = [\"}\"]\n",
    "c_body = os.linesep.join(c_body)\n",
    "print(c_body)"
   ]
  },
  {
   "cell_type": "code",
   "execution_count": 9,
   "metadata": {},
   "outputs": [
    {
     "ename": "AttributeError",
     "evalue": "'list' object has no attribute 'has_key'",
     "output_type": "error",
     "traceback": [
      "\u001b[0;31m---------------------------------------------------------------------------\u001b[0m",
      "\u001b[0;31mAttributeError\u001b[0m                            Traceback (most recent call last)",
      "\u001b[0;32m<ipython-input-9-341110efaf0e>\u001b[0m in \u001b[0;36m<module>\u001b[0;34m()\u001b[0m\n\u001b[1;32m      1\u001b[0m \u001b[0ma\u001b[0m\u001b[0;34m=\u001b[0m\u001b[0;34m[\u001b[0m\u001b[0;34m(\u001b[0m\u001b[0;34m'x'\u001b[0m\u001b[0;34m,\u001b[0m \u001b[0;36m1\u001b[0m\u001b[0;34m)\u001b[0m\u001b[0;34m,\u001b[0m \u001b[0;34m(\u001b[0m\u001b[0;34m'y'\u001b[0m\u001b[0;34m,\u001b[0m \u001b[0;36m2\u001b[0m\u001b[0;34m)\u001b[0m\u001b[0;34m]\u001b[0m\u001b[0;34m\u001b[0m\u001b[0m\n\u001b[0;32m----> 2\u001b[0;31m \u001b[0ma\u001b[0m\u001b[0;34m.\u001b[0m\u001b[0mhas_key\u001b[0m\u001b[0;34m(\u001b[0m\u001b[0;34m'x'\u001b[0m\u001b[0;34m)\u001b[0m\u001b[0;34m\u001b[0m\u001b[0m\n\u001b[0m",
      "\u001b[0;31mAttributeError\u001b[0m: 'list' object has no attribute 'has_key'"
     ]
    }
   ],
   "source": [
    "a=[('x', 1), ('y', 2)]\n",
    "a.has_key('x')"
   ]
  }
 ],
 "metadata": {
  "kernelspec": {
   "display_name": "Python 2",
   "language": "python",
   "name": "python2"
  },
  "language_info": {
   "codemirror_mode": {
    "name": "ipython",
    "version": 2
   },
   "file_extension": ".py",
   "mimetype": "text/x-python",
   "name": "python",
   "nbconvert_exporter": "python",
   "pygments_lexer": "ipython2",
   "version": "2.7.18"
  }
 },
 "nbformat": 4,
 "nbformat_minor": 2
}
