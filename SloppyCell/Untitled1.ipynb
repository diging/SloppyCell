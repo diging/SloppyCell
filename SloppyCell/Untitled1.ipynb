{
 "cells": [
  {
   "cell_type": "code",
   "execution_count": 16,
   "id": "3295c9e0",
   "metadata": {},
   "outputs": [],
   "source": [
    "from ast import *\n",
    "from SloppyCell.ExprManip import AST"
   ]
  },
  {
   "cell_type": "code",
   "execution_count": 23,
   "id": "2eb56fa0",
   "metadata": {},
   "outputs": [],
   "source": [
    "def make_c_compatible(expr):\n",
    "    \n",
    "    ast = parse((expr), mode='eval')\n",
    "    ast = _make_c_compatible_ast(ast)\n",
    "    for node in walk(tree):\n",
    "    if isinstance(node, ast.FunctionDef):\n",
    "        print(node.name)\n",
    "    print(type(ast))\n",
    "    if isinstance(ast, Name):\n",
    "        out = ast.name\n",
    "    elif isinstance(ast, Constant):\n",
    "        out = str(ast.value)\n",
    "    elif isinstance(ast, Add):\n",
    "        out = '%s + %s' % (ast2str(ast.left, ast),\n",
    "                           ast2str(ast.right, ast))\n",
    "    elif isinstance(ast, Sub):\n",
    "        out = '%s - %s' % (ast2str(ast.left, ast),\n",
    "                           ast2str(ast.right, ast, adjust = TINY))\n",
    "    elif isinstance(ast, Mult):\n",
    "        out = '%s*%s' % (ast2str(ast.left, ast),\n",
    "                           ast2str(ast.right, ast))\n",
    "    elif isinstance(ast, Div):\n",
    "        # The adjust ensures proper parentheses for x/(y*z)\n",
    "        out = '%s/%s' % (ast2str(ast.left, ast),\n",
    "                           ast2str(ast.right, ast, adjust = TINY))\n",
    "    elif isinstance(ast, Pow):\n",
    "        # The adjust ensures proper parentheses for (x**y)**z\n",
    "        out = '%s**%s' % (ast2str(ast.left, ast, adjust = TINY),\n",
    "                          ast2str(ast.right, ast))\n",
    "    elif isinstance(ast, USub):\n",
    "        out = '-%s' % ast2str(ast.expr, ast)\n",
    "    elif isinstance(ast, UAdd):\n",
    "        out = '+%s' % ast2str(ast.expr, ast)\n",
    "    elif isinstance(ast, Call):\n",
    "        args = [ast2str(arg) for arg in ast.args]\n",
    "        out = '%s(%s)' % (ast2str(ast.node), ', '.join(args))\n",
    "    elif isinstance(ast, Subscript):\n",
    "        subs = [ast2str(sub) for sub in ast.subs]\n",
    "        out = '%s[%s]' % (ast2str(ast.expr), ', '.join(subs))\n",
    "    elif isinstance(ast, Slice):\n",
    "        out = '%s[%s:%s]' % (ast2str(ast.expr), ast2str(ast.lower), \n",
    "                             ast2str(ast.upper))\n",
    "    elif isinstance(ast, Slice):\n",
    "        nodes = [ast2str(node) for node in ast.nodes]\n",
    "        out = ':'.join(nodes)\n",
    "    elif isinstance(ast, Compare):\n",
    "        expr = ast2str(ast.expr, ast, adjust=6+TINY)\n",
    "        out_l = [expr]\n",
    "        for op, val in ast.ops:\n",
    "            out_l.append(op)\n",
    "            out_l.append(ast2str(val, ast, adjust=6+TINY))\n",
    "        out = ' '.join(out_l)\n",
    "    elif isinstance(ast, And):\n",
    "        nodes = [ast2str(node, ast, adjust=TINY) for node in ast.nodes]\n",
    "        out = ' and '.join(nodes)\n",
    "    elif isinstance(ast, Or):\n",
    "        nodes = [ast2str(node, ast, adjust=TINY) for node in ast.nodes]\n",
    "        out = ' or '.join(nodes)\n",
    "    elif isinstance(ast, Not):\n",
    "        out = 'not %s' % ast2str(ast.expr, ast, adjust=TINY)\n",
    "    print(\"out value\", out)\n",
    "    # Ensure parentheses by checking the _OP_ORDER of the outer and inner ASTs\n",
    "    if _need_parens(outer, ast, adjust):\n",
    "        return out\n",
    "    else:\n",
    "        return '(%s)' % out\n",
    "\n",
    "def _make_c_compatible_ast(ast):\n",
    "    print(isinstance(ast, Pow))\n",
    "    if isinstance(ast, Pow):\n",
    "        ast = Call(Name('pow'), [ast.left, ast.right], None, None)\n",
    "        ast = AST.recurse_down_tree(ast, _make_c_compatible_ast)\n",
    "    elif isinstance(ast, Constant) and isinstance(ast.value, int):\n",
    "        ast.value = float(ast.value)\n",
    "    elif isinstance(ast, Subscript):\n",
    "        # These asts correspond to array[blah] and we shouldn't convert these\n",
    "        # to floats, so we don't recurse down the tree in this case.\n",
    "        pass\n",
    "    # We need to subsitute the C logical operators. Unfortunately, they aren't\n",
    "    # valid python syntax, so we have to cheat a little, using Compare and Name\n",
    "    # nodes abusively. This abuse may not be future-proof... sigh...\n",
    "    elif isinstance(ast, And):\n",
    "        nodes = AST.recurse_down_tree(ast.nodes, _make_c_compatible_ast)\n",
    "        ops = [('&&', node) for node in nodes[1:]]\n",
    "        ast = AST.Compare(nodes[0], ops)\n",
    "    elif isinstance(ast, Or):\n",
    "        nodes = AST.recurse_down_tree(ast.nodes, _make_c_compatible_ast)\n",
    "        ops = [('||', node) for node in nodes[1:]]\n",
    "        ast = AST.Compare(nodes[0], ops)\n",
    "    elif isinstance(ast, Not):\n",
    "        expr = AST.recurse_down_tree(ast.expr, _make_c_compatible_ast)\n",
    "        ast = AST.Name('!(%s)' % ast2str(expr))\n",
    "    else:\n",
    "        print(\"in else\")\n",
    "        ast = AST.recurse_down_tree(ast, _make_c_compatible_ast)\n",
    "    return ast"
   ]
  },
  {
   "cell_type": "code",
   "execution_count": 24,
   "id": "5128c093",
   "metadata": {},
   "outputs": [],
   "source": [
    "expr = \"1/cos(arg0)**2\""
   ]
  },
  {
   "cell_type": "code",
   "execution_count": 25,
   "id": "44c3a772",
   "metadata": {},
   "outputs": [
    {
     "name": "stdout",
     "output_type": "stream",
     "text": [
      "False\n",
      "in else\n",
      "<class '_ast.Expression'>\n"
     ]
    },
    {
     "ename": "UnboundLocalError",
     "evalue": "local variable 'out' referenced before assignment",
     "output_type": "error",
     "traceback": [
      "\u001b[0;31m---------------------------------------------------------------------------\u001b[0m",
      "\u001b[0;31mUnboundLocalError\u001b[0m                         Traceback (most recent call last)",
      "\u001b[0;32m<ipython-input-25-90908cca8a8e>\u001b[0m in \u001b[0;36m<module>\u001b[0;34m\u001b[0m\n\u001b[0;32m----> 1\u001b[0;31m \u001b[0mmake_c_compatible\u001b[0m\u001b[0;34m(\u001b[0m\u001b[0mexpr\u001b[0m\u001b[0;34m)\u001b[0m\u001b[0;34m\u001b[0m\u001b[0;34m\u001b[0m\u001b[0m\n\u001b[0m",
      "\u001b[0;32m<ipython-input-23-362272d98a9e>\u001b[0m in \u001b[0;36mmake_c_compatible\u001b[0;34m(expr)\u001b[0m\n\u001b[1;32m     56\u001b[0m     \u001b[0;32melif\u001b[0m \u001b[0misinstance\u001b[0m\u001b[0;34m(\u001b[0m\u001b[0mast\u001b[0m\u001b[0;34m,\u001b[0m \u001b[0mNot\u001b[0m\u001b[0;34m)\u001b[0m\u001b[0;34m:\u001b[0m\u001b[0;34m\u001b[0m\u001b[0;34m\u001b[0m\u001b[0m\n\u001b[1;32m     57\u001b[0m         \u001b[0mout\u001b[0m \u001b[0;34m=\u001b[0m \u001b[0;34m'not %s'\u001b[0m \u001b[0;34m%\u001b[0m \u001b[0mast2str\u001b[0m\u001b[0;34m(\u001b[0m\u001b[0mast\u001b[0m\u001b[0;34m.\u001b[0m\u001b[0mexpr\u001b[0m\u001b[0;34m,\u001b[0m \u001b[0mast\u001b[0m\u001b[0;34m,\u001b[0m \u001b[0madjust\u001b[0m\u001b[0;34m=\u001b[0m\u001b[0mTINY\u001b[0m\u001b[0;34m)\u001b[0m\u001b[0;34m\u001b[0m\u001b[0;34m\u001b[0m\u001b[0m\n\u001b[0;32m---> 58\u001b[0;31m     \u001b[0mprint\u001b[0m\u001b[0;34m(\u001b[0m\u001b[0;34m\"out value\"\u001b[0m\u001b[0;34m,\u001b[0m \u001b[0mout\u001b[0m\u001b[0;34m)\u001b[0m\u001b[0;34m\u001b[0m\u001b[0;34m\u001b[0m\u001b[0m\n\u001b[0m\u001b[1;32m     59\u001b[0m     \u001b[0;31m# Ensure parentheses by checking the _OP_ORDER of the outer and inner ASTs\u001b[0m\u001b[0;34m\u001b[0m\u001b[0;34m\u001b[0m\u001b[0;34m\u001b[0m\u001b[0m\n\u001b[1;32m     60\u001b[0m     \u001b[0;32mif\u001b[0m \u001b[0m_need_parens\u001b[0m\u001b[0;34m(\u001b[0m\u001b[0mouter\u001b[0m\u001b[0;34m,\u001b[0m \u001b[0mast\u001b[0m\u001b[0;34m,\u001b[0m \u001b[0madjust\u001b[0m\u001b[0;34m)\u001b[0m\u001b[0;34m:\u001b[0m\u001b[0;34m\u001b[0m\u001b[0;34m\u001b[0m\u001b[0m\n",
      "\u001b[0;31mUnboundLocalError\u001b[0m: local variable 'out' referenced before assignment"
     ]
    }
   ],
   "source": [
    "make_c_compatible(expr)"
   ]
  }
 ],
 "metadata": {
  "kernelspec": {
   "display_name": "Python 3",
   "language": "python",
   "name": "python3"
  },
  "language_info": {
   "codemirror_mode": {
    "name": "ipython",
    "version": 3
   },
   "file_extension": ".py",
   "mimetype": "text/x-python",
   "name": "python",
   "nbconvert_exporter": "python",
   "pygments_lexer": "ipython3",
   "version": "3.8.5"
  }
 },
 "nbformat": 4,
 "nbformat_minor": 5
}
