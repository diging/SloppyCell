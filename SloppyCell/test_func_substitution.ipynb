{
 "cells": [
  {
   "cell_type": "code",
   "execution_count": 2,
   "metadata": {},
   "outputs": [],
   "source": [
    "from ast import *\n",
    "def _sub_subtrees_for_vars(ast, ast_mappings):\n",
    "    for node in walk(ast):\n",
    "        if isinstance(node, Name) and ast_mappings.has_key(unparse(ast)):\n",
    "            node = ast_mappings[unparse(ast)]\n",
    "    return ast\n",
    "def strip_parse(expr):\n",
    "    return parse(expr)\n",
    "def sub_for_func(expr, func_name, func_vars, func_expr):\n",
    "    ast = strip_parse(expr)\n",
    "    func_name_ast = strip_parse(func_name)\n",
    "    nodes = [node for node in walk(func_name_ast.body[0])]\n",
    "    print(nodes)\n",
    "    if not isinstance(nodes[1], Name):\n",
    "        raise ValueError('Function name is not a simple name.')\n",
    "    \n",
    "    func_name = func_name_ast.body[0].value.id\n",
    "    print(func_name)\n",
    "    func_expr_ast = strip_parse(func_expr)\n",
    "    # We can strip_parse  the '*', so we special case it here.\n",
    "    if func_vars == '*':\n",
    "        if not hasattr(func_expr_ast, 'nodes'):\n",
    "            raise ValueError(\"Top-level function in %s does not appear to \"\n",
    "                             \"accept variable number of arguments. (It has no \"\n",
    "                             \"'nodes' attribute.)\" % func_expr)\n",
    "\n",
    "        func_var_names = '*'\n",
    "    else:\n",
    "        func_vars_ast = [strip_parse(var).body[0].value for var in func_vars]\n",
    "        for var_ast in func_vars_ast:\n",
    "            if not isinstance(var_ast, Name):\n",
    "                raise ValueError('Function variable is not a simple name.')\n",
    "        func_var_names = [getattr(var_ast, 'id') for var_ast in func_vars_ast]\n",
    "        print(func_var_names)\n",
    "\n",
    "    ast = _sub_for_func_ast(ast, func_name, func_var_names, func_expr_ast)\n",
    "#     simple = Simplify._simplify_ast(ast)\n",
    "    return ast\n",
    "\n",
    "\n",
    "def _sub_for_func_ast(ast, func_name, func_vars, func_expr_ast):\n",
    "\n",
    "    print(dump(ast), func_name, func_vars, dump(func_expr_ast))\n",
    "    for node in walk(ast):\n",
    "    \n",
    "        if isinstance(node, Call) and unparse(node.value.id) == func_name\\\n",
    "           and func_vars == '*':\n",
    "            working_ast = copy.deepcopy(func_expr_ast)\n",
    "            new_args = [_sub_for_func_ast(arg_ast, func_name, func_vars, \n",
    "                                          func_expr_ast) for arg_ast in node.value.args]\n",
    "            # This subs out the arguments of the original function.\n",
    "            working_ast.node.value.args = new_args\n",
    "            return working_ast\n",
    "        if isinstance(ast, Call) and unparse(node.value.id) == func_name\\\n",
    "           and len(node.value.args) == len(func_vars):\n",
    "            # If our ast is the function we're looking for, we take the ast\n",
    "            #  for the function expression, substitute for its arguments, and\n",
    "            #  return\n",
    "            working_ast = copy.deepcopy(func_expr_ast)\n",
    "            mapping = {}\n",
    "            for var_name, arg_ast in zip(func_vars, node.value.args):\n",
    "                subbed_arg_ast = _sub_for_func_ast(arg_ast, func_name, func_vars, \n",
    "                                                   func_expr_ast)\n",
    "                mapping[var_name] = subbed_arg_ast\n",
    "            _sub_subtrees_for_vars(working_ast, mapping)\n",
    "            return working_ast\n",
    "    return ast\n",
    "    "
   ]
  },
  {
   "cell_type": "code",
   "execution_count": 3,
   "metadata": {},
   "outputs": [],
   "source": [
    "def test_sub_for_func():\n",
    "    cases = [('f(x)', 'f', 'y', 'y+1',\n",
    "              'x+1'),\n",
    "             ]\n",
    "\n",
    "    for expr, func_name, func_vars, func_expr, answer in cases:\n",
    "        print\n",
    "        subbed = sub_for_func(expr, func_name, func_vars,\n",
    "                                           func_expr)\n",
    "        assert eval(answer) == eval(subbed)"
   ]
  },
  {
   "cell_type": "code",
   "execution_count": 4,
   "metadata": {},
   "outputs": [
    {
     "name": "stdout",
     "output_type": "stream",
     "text": [
      "[<ast.Expr object at 0x7fc70d858490>, <ast.Name object at 0x7fc70d858040>, <ast.Load object at 0x7fc7113ccb50>]\n",
      "f\n",
      "['y']\n",
      "Module(body=[Expr(value=Call(func=Name(id='f', ctx=Load()), args=[Name(id='x', ctx=Load())], keywords=[]))], type_ignores=[]) f ['y'] Module(body=[Expr(value=BinOp(left=Name(id='y', ctx=Load()), op=Add(), right=Constant(value=1)))], type_ignores=[])\n"
     ]
    },
    {
     "ename": "AttributeError",
     "evalue": "'Call' object has no attribute 'value'",
     "output_type": "error",
     "traceback": [
      "\u001b[0;31m---------------------------------------------------------------------------\u001b[0m",
      "\u001b[0;31mAttributeError\u001b[0m                            Traceback (most recent call last)",
      "\u001b[0;32m<ipython-input-4-4ca492db1c4f>\u001b[0m in \u001b[0;36m<module>\u001b[0;34m\u001b[0m\n\u001b[0;32m----> 1\u001b[0;31m \u001b[0mtest_sub_for_func\u001b[0m\u001b[0;34m(\u001b[0m\u001b[0;34m)\u001b[0m\u001b[0;34m\u001b[0m\u001b[0;34m\u001b[0m\u001b[0m\n\u001b[0m",
      "\u001b[0;32m<ipython-input-3-2e60332d67de>\u001b[0m in \u001b[0;36mtest_sub_for_func\u001b[0;34m()\u001b[0m\n\u001b[1;32m      6\u001b[0m     \u001b[0;32mfor\u001b[0m \u001b[0mexpr\u001b[0m\u001b[0;34m,\u001b[0m \u001b[0mfunc_name\u001b[0m\u001b[0;34m,\u001b[0m \u001b[0mfunc_vars\u001b[0m\u001b[0;34m,\u001b[0m \u001b[0mfunc_expr\u001b[0m\u001b[0;34m,\u001b[0m \u001b[0manswer\u001b[0m \u001b[0;32min\u001b[0m \u001b[0mcases\u001b[0m\u001b[0;34m:\u001b[0m\u001b[0;34m\u001b[0m\u001b[0;34m\u001b[0m\u001b[0m\n\u001b[1;32m      7\u001b[0m         \u001b[0mprint\u001b[0m\u001b[0;34m\u001b[0m\u001b[0;34m\u001b[0m\u001b[0m\n\u001b[0;32m----> 8\u001b[0;31m         subbed = sub_for_func(expr, func_name, func_vars,\n\u001b[0m\u001b[1;32m      9\u001b[0m                                            func_expr)\n\u001b[1;32m     10\u001b[0m         \u001b[0;32massert\u001b[0m \u001b[0meval\u001b[0m\u001b[0;34m(\u001b[0m\u001b[0manswer\u001b[0m\u001b[0;34m)\u001b[0m \u001b[0;34m==\u001b[0m \u001b[0meval\u001b[0m\u001b[0;34m(\u001b[0m\u001b[0msubbed\u001b[0m\u001b[0;34m)\u001b[0m\u001b[0;34m\u001b[0m\u001b[0;34m\u001b[0m\u001b[0m\n",
      "\u001b[0;32m<ipython-input-2-789578a29fdb>\u001b[0m in \u001b[0;36msub_for_func\u001b[0;34m(expr, func_name, func_vars, func_expr)\u001b[0m\n\u001b[1;32m     34\u001b[0m         \u001b[0mprint\u001b[0m\u001b[0;34m(\u001b[0m\u001b[0mfunc_var_names\u001b[0m\u001b[0;34m)\u001b[0m\u001b[0;34m\u001b[0m\u001b[0;34m\u001b[0m\u001b[0m\n\u001b[1;32m     35\u001b[0m \u001b[0;34m\u001b[0m\u001b[0m\n\u001b[0;32m---> 36\u001b[0;31m     \u001b[0mast\u001b[0m \u001b[0;34m=\u001b[0m \u001b[0m_sub_for_func_ast\u001b[0m\u001b[0;34m(\u001b[0m\u001b[0mast\u001b[0m\u001b[0;34m,\u001b[0m \u001b[0mfunc_name\u001b[0m\u001b[0;34m,\u001b[0m \u001b[0mfunc_var_names\u001b[0m\u001b[0;34m,\u001b[0m \u001b[0mfunc_expr_ast\u001b[0m\u001b[0;34m)\u001b[0m\u001b[0;34m\u001b[0m\u001b[0;34m\u001b[0m\u001b[0m\n\u001b[0m\u001b[1;32m     37\u001b[0m \u001b[0;31m#     simple = Simplify._simplify_ast(ast)\u001b[0m\u001b[0;34m\u001b[0m\u001b[0;34m\u001b[0m\u001b[0;34m\u001b[0m\u001b[0m\n\u001b[1;32m     38\u001b[0m     \u001b[0;32mreturn\u001b[0m \u001b[0mast\u001b[0m\u001b[0;34m\u001b[0m\u001b[0;34m\u001b[0m\u001b[0m\n",
      "\u001b[0;32m<ipython-input-2-789578a29fdb>\u001b[0m in \u001b[0;36m_sub_for_func_ast\u001b[0;34m(ast, func_name, func_vars, func_expr_ast)\u001b[0m\n\u001b[1;32m     44\u001b[0m     \u001b[0;32mfor\u001b[0m \u001b[0mnode\u001b[0m \u001b[0;32min\u001b[0m \u001b[0mwalk\u001b[0m\u001b[0;34m(\u001b[0m\u001b[0mast\u001b[0m\u001b[0;34m)\u001b[0m\u001b[0;34m:\u001b[0m\u001b[0;34m\u001b[0m\u001b[0;34m\u001b[0m\u001b[0m\n\u001b[1;32m     45\u001b[0m \u001b[0;34m\u001b[0m\u001b[0m\n\u001b[0;32m---> 46\u001b[0;31m         \u001b[0;32mif\u001b[0m \u001b[0misinstance\u001b[0m\u001b[0;34m(\u001b[0m\u001b[0mnode\u001b[0m\u001b[0;34m,\u001b[0m \u001b[0mCall\u001b[0m\u001b[0;34m)\u001b[0m \u001b[0;32mand\u001b[0m \u001b[0munparse\u001b[0m\u001b[0;34m(\u001b[0m\u001b[0mnode\u001b[0m\u001b[0;34m.\u001b[0m\u001b[0mvalue\u001b[0m\u001b[0;34m.\u001b[0m\u001b[0mid\u001b[0m\u001b[0;34m)\u001b[0m \u001b[0;34m==\u001b[0m \u001b[0mfunc_name\u001b[0m\u001b[0;31m\\\u001b[0m\u001b[0;34m\u001b[0m\u001b[0;34m\u001b[0m\u001b[0m\n\u001b[0m\u001b[1;32m     47\u001b[0m            \u001b[0;32mand\u001b[0m \u001b[0mfunc_vars\u001b[0m \u001b[0;34m==\u001b[0m \u001b[0;34m'*'\u001b[0m\u001b[0;34m:\u001b[0m\u001b[0;34m\u001b[0m\u001b[0;34m\u001b[0m\u001b[0m\n\u001b[1;32m     48\u001b[0m             \u001b[0mworking_ast\u001b[0m \u001b[0;34m=\u001b[0m \u001b[0mcopy\u001b[0m\u001b[0;34m.\u001b[0m\u001b[0mdeepcopy\u001b[0m\u001b[0;34m(\u001b[0m\u001b[0mfunc_expr_ast\u001b[0m\u001b[0;34m)\u001b[0m\u001b[0;34m\u001b[0m\u001b[0;34m\u001b[0m\u001b[0m\n",
      "\u001b[0;31mAttributeError\u001b[0m: 'Call' object has no attribute 'value'"
     ]
    }
   ],
   "source": [
    "test_sub_for_func()"
   ]
  },
  {
   "cell_type": "code",
   "execution_count": 5,
   "metadata": {},
   "outputs": [],
   "source": [
    "import ast\n",
    "flags = ast.PyCF_ONLY_AST \n",
    "tree = compile(\"a+b\", filename='<unknown>', mode='exec',\n",
    "    flags=flags, dont_inherit=True)"
   ]
  },
  {
   "cell_type": "code",
   "execution_count": 1,
   "metadata": {},
   "outputs": [
    {
     "data": {
      "text/plain": [
       "'/usr/bin/python3.9'"
      ]
     },
     "execution_count": 1,
     "metadata": {},
     "output_type": "execute_result"
    }
   ],
   "source": [
    "import sys\n",
    "sys.executable"
   ]
  },
  {
   "cell_type": "code",
   "execution_count": 52,
   "metadata": {},
   "outputs": [],
   "source": [
    "def test__collect_num_denom():\n",
    "        cases = [\n",
    "                 (strip_parse('1 + 3/2 + 4'), (['1'], ['2'])),\n",
    "                 ]\n",
    "        for ast, (nums, denoms) in cases: \n",
    "            n, d = [], []\n",
    "            print(dump(ast))\n",
    "            _collect_num_denom(ast, n, d)\n",
    "            n = [unparse(term) for term in n]\n",
    "            d = [unparse(term) for term in d]\n",
    "#             print(\"numerator\", nums)\n",
    "#             print(\"denominator\", denoms)\n",
    "#             print(n)\n",
    "#             print(d)\n",
    "#             assert set(nums) == set(n)\n",
    "#             assert set(denoms) == set(d)"
   ]
  },
  {
   "cell_type": "code",
   "execution_count": 56,
   "metadata": {},
   "outputs": [
    {
     "name": "stdout",
     "output_type": "stream",
     "text": [
      "Module(body=[Expr(value=BinOp(left=BinOp(left=Constant(value=1), op=Add(), right=BinOp(left=Constant(value=3), op=Div(), right=Constant(value=2))), op=Add(), right=Constant(value=4)))], type_ignores=[])\n",
      "<ast.BinOp object at 0x7fc705712ca0>\n",
      "<ast.BinOp object at 0x7fc705712ca0>\n",
      "<ast.BinOp object at 0x7fc705712460>\n",
      "<ast.BinOp object at 0x7fc705712460>\n",
      "<ast.BinOp object at 0x7fc705712730>\n",
      "<ast.BinOp object at 0x7fc705712730>\n",
      "numerator ['1']\n",
      "denominator ['2']\n",
      "[]\n",
      "[]\n"
     ]
    }
   ],
   "source": [
    "test__collect_num_denom()"
   ]
  },
  {
   "cell_type": "code",
   "execution_count": 60,
   "metadata": {},
   "outputs": [
    {
     "ename": "NameError",
     "evalue": "name 'nums' is not defined",
     "output_type": "error",
     "traceback": [
      "\u001b[0;31m---------------------------------------------------------------------------\u001b[0m",
      "\u001b[0;31mNameError\u001b[0m                                 Traceback (most recent call last)",
      "\u001b[0;32m<ipython-input-60-f855aea7f944>\u001b[0m in \u001b[0;36m<module>\u001b[0;34m\u001b[0m\n\u001b[0;32m----> 1\u001b[0;31m \u001b[0;32mclass\u001b[0m \u001b[0mPowForDoubleStar\u001b[0m\u001b[0;34m(\u001b[0m\u001b[0mNodeVisitor\u001b[0m\u001b[0;34m)\u001b[0m\u001b[0;34m:\u001b[0m\u001b[0;34m\u001b[0m\u001b[0;34m\u001b[0m\u001b[0m\n\u001b[0m\u001b[1;32m      2\u001b[0m     \u001b[0mnums\u001b[0m \u001b[0;34m=\u001b[0m \u001b[0mnums\u001b[0m\u001b[0;34m\u001b[0m\u001b[0;34m\u001b[0m\u001b[0m\n\u001b[1;32m      3\u001b[0m     \u001b[0mdenoms\u001b[0m \u001b[0;34m=\u001b[0m \u001b[0mdenoms\u001b[0m\u001b[0;34m\u001b[0m\u001b[0;34m\u001b[0m\u001b[0m\n\u001b[1;32m      4\u001b[0m     \u001b[0;32mdef\u001b[0m \u001b[0mvisit_BinOp\u001b[0m\u001b[0;34m(\u001b[0m\u001b[0mself\u001b[0m\u001b[0;34m,\u001b[0m \u001b[0mnode\u001b[0m\u001b[0;34m)\u001b[0m\u001b[0;34m:\u001b[0m\u001b[0;34m\u001b[0m\u001b[0;34m\u001b[0m\u001b[0m\n\u001b[1;32m      5\u001b[0m         \u001b[0mnode\u001b[0m\u001b[0;34m.\u001b[0m\u001b[0mleft\u001b[0m \u001b[0;34m=\u001b[0m \u001b[0mself\u001b[0m\u001b[0;34m.\u001b[0m\u001b[0mvisit\u001b[0m\u001b[0;34m(\u001b[0m\u001b[0mnode\u001b[0m\u001b[0;34m.\u001b[0m\u001b[0mleft\u001b[0m\u001b[0;34m)\u001b[0m\u001b[0;34m\u001b[0m\u001b[0;34m\u001b[0m\u001b[0m\n",
      "\u001b[0;32m<ipython-input-60-f855aea7f944>\u001b[0m in \u001b[0;36mPowForDoubleStar\u001b[0;34m()\u001b[0m\n\u001b[1;32m      1\u001b[0m \u001b[0;32mclass\u001b[0m \u001b[0mPowForDoubleStar\u001b[0m\u001b[0;34m(\u001b[0m\u001b[0mNodeVisitor\u001b[0m\u001b[0;34m)\u001b[0m\u001b[0;34m:\u001b[0m\u001b[0;34m\u001b[0m\u001b[0;34m\u001b[0m\u001b[0m\n\u001b[0;32m----> 2\u001b[0;31m     \u001b[0mnums\u001b[0m \u001b[0;34m=\u001b[0m \u001b[0mnums\u001b[0m\u001b[0;34m\u001b[0m\u001b[0;34m\u001b[0m\u001b[0m\n\u001b[0m\u001b[1;32m      3\u001b[0m     \u001b[0mdenoms\u001b[0m \u001b[0;34m=\u001b[0m \u001b[0mdenoms\u001b[0m\u001b[0;34m\u001b[0m\u001b[0;34m\u001b[0m\u001b[0m\n\u001b[1;32m      4\u001b[0m     \u001b[0;32mdef\u001b[0m \u001b[0mvisit_BinOp\u001b[0m\u001b[0;34m(\u001b[0m\u001b[0mself\u001b[0m\u001b[0;34m,\u001b[0m \u001b[0mnode\u001b[0m\u001b[0;34m)\u001b[0m\u001b[0;34m:\u001b[0m\u001b[0;34m\u001b[0m\u001b[0;34m\u001b[0m\u001b[0m\n\u001b[1;32m      5\u001b[0m         \u001b[0mnode\u001b[0m\u001b[0;34m.\u001b[0m\u001b[0mleft\u001b[0m \u001b[0;34m=\u001b[0m \u001b[0mself\u001b[0m\u001b[0;34m.\u001b[0m\u001b[0mvisit\u001b[0m\u001b[0;34m(\u001b[0m\u001b[0mnode\u001b[0m\u001b[0;34m.\u001b[0m\u001b[0mleft\u001b[0m\u001b[0;34m)\u001b[0m\u001b[0;34m\u001b[0m\u001b[0;34m\u001b[0m\u001b[0m\n",
      "\u001b[0;31mNameError\u001b[0m: name 'nums' is not defined"
     ]
    }
   ],
   "source": [
    "class PowForDoubleStar(NodeVisitor):\n",
    "    nums = nums\n",
    "    denoms = denoms\n",
    "    def visit_BinOp(self, node):\n",
    "        node.left = self.visit(node.left)\n",
    "        node.right = self.visit(node.right)\n",
    "        print(node)\n",
    "        print(node)\n",
    "        if not (isinstance(node.op, Mult) or isinstance(node.op, Div)):\n",
    "            self.nums.append(node)\n",
    "           \n",
    "        if isinstance(node.left, Div) or isinstance(node.left, Mult):\n",
    "            _collect_num_denom(node.left, nums, denoms)\n",
    "        else:\n",
    "            self.nums.append(node.left)\n",
    "        if isinstance(node.right, Div) or isinstance(node.right, Mult):\n",
    "            if isinstance(node, Mult):\n",
    "                _collect_num_denom(node.right, nums, denoms)\n",
    "            elif isinstance(node, Div):\n",
    "                _collect_num_denom(node.right, denoms, nums)\n",
    "        else:\n",
    "            if isinstance(node, Mult):\n",
    "                self.nums.append(node.right)\n",
    "            elif isinstance(node, Div):\n",
    "                denoms.append(node.right)\n",
    "        self.generic_visit(node)\n",
    "        \n",
    "\n",
    "      \n",
    "    \n",
    "def collect_num_denom(tree, nums, denoms):\n",
    "    \"\"\"\n",
    "    Append to nums and denoms, respectively, the nodes in the numerator and \n",
    "    denominator of an AST.\n",
    "    \"\"\"\n",
    "    PowForDoubleStar().visit(tree, nums, denoms)"
   ]
  },
  {
   "cell_type": "code",
   "execution_count": 154,
   "metadata": {},
   "outputs": [
    {
     "name": "stdout",
     "output_type": "stream",
     "text": [
      "BinOp(left=Constant(value=1), op=Div(), right=Constant(value=2))\n",
      "<ast.Div object at 0x7fc7113c8fd0>\n",
      "[]\n",
      "[]\n"
     ]
    }
   ],
   "source": [
    "x = \"1/2\"\n",
    "def strip_parse(x):\n",
    "    return parse(x).body[0].value\n",
    "nums = []\n",
    "denoms = []\n",
    "class PowForDoubleStar(NodeVisitor):\n",
    "    def visit_BinOp(self, node):\n",
    "        node.left = self.visit(node.left)\n",
    "        node.right = self.visit(node.right)\n",
    "        print(node.op)\n",
    "        if not (isinstance(node.op, Mult) or isinstance(node.op, Div)):\n",
    "            print(\"here\", node)\n",
    "           \n",
    "#         if isinstance(node.left, Div) or isinstance(node.left, Mult):\n",
    "#             print(\"entered here\")\n",
    "#         else:\n",
    "#             nums.append(node.left)\n",
    "#         if isinstance(node.right, Div) or isinstance(node.right, Mult):\n",
    "#             if isinstance(node, Mult):\n",
    "#                 _collect_num_denom(node.right, nums, denoms)\n",
    "#             elif isinstance(node, Div):\n",
    "#                 _collect_num_denom(node.right, denoms, nums)\n",
    "#         else:\n",
    "#             if isinstance(node, Mult):\n",
    "#                 nums.append(node.right)\n",
    "#             elif isinstance(node, Div):\n",
    "#                 denoms.append(node.right)\n",
    "        self.generic_visit(node)\n",
    "tree = strip_parse(x)\n",
    "print(dump(tree))\n",
    "PowForDoubleStar().visit(tree)\n",
    "print(nums)\n",
    "print(denoms)"
   ]
  },
  {
   "cell_type": "code",
   "execution_count": 149,
   "metadata": {},
   "outputs": [
    {
     "name": "stdout",
     "output_type": "stream",
     "text": [
      "Module(body=[Expr(value=BinOp(left=BinOp(left=Constant(value=1), op=Div(), right=Constant(value=2)), op=Div(), right=Constant(value=3)))], type_ignores=[])\n",
      "nums [1]\n",
      "denoms [2, 3]\n"
     ]
    }
   ],
   "source": [
    "x = \"(1/2)/3\"\n",
    "tree = strip_parse(x)\n",
    "print(dump(tree))\n",
    "# print(tree.body[0].value)\n",
    "nums = []\n",
    "denoms = []\n",
    "# print(\"children\", tree.iter_child_nodes)\n",
    "_collect_num_denom(tree.body[0].value, nums, denoms)\n",
    "print(\"nums\", nums)\n",
    "\n",
    "print(\"denoms\", denoms)"
   ]
  },
  {
   "cell_type": "code",
   "execution_count": 144,
   "metadata": {},
   "outputs": [
    {
     "name": "stdout",
     "output_type": "stream",
     "text": [
      "Module(body=[Expr(value=BinOp(left=Constant(value=1), op=Div(), right=Constant(value=2)))], type_ignores=[])\n",
      "<ast.BinOp object at 0x7fc70572c6d0>\n",
      "<ast.Constant object at 0x7fc70572c940>\n",
      "<ast.Constant object at 0x7fc70572c5e0>\n"
     ]
    }
   ],
   "source": [
    "x = \"1/2\"\n",
    "tree = strip_parse(x)\n",
    "print(dump(tree))\n",
    "print(tree.body[0].value)\n",
    "print(tree.body[0].value.left)\n",
    "print(tree.body[0].value.right)"
   ]
  },
  {
   "cell_type": "code",
   "execution_count": 199,
   "metadata": {},
   "outputs": [
    {
     "name": "stdout",
     "output_type": "stream",
     "text": [
      "Constant(value=1)\n",
      "[1] [1]\n",
      "[] []\n",
      "-------------\n",
      "BinOp(left=Constant(value=1), op=Div(), right=Constant(value=2))\n",
      "[1] [1]\n",
      "[2] [2]\n",
      "-------------\n",
      "BinOp(left=BinOp(left=Constant(value=1), op=Div(), right=Constant(value=2)), op=Mult(), right=Constant(value=3))\n"
     ]
    },
    {
     "ename": "AttributeError",
     "evalue": "'BinOp' object has no attribute 'value'",
     "output_type": "error",
     "traceback": [
      "\u001b[0;31m---------------------------------------------------------------------------\u001b[0m",
      "\u001b[0;31mAttributeError\u001b[0m                            Traceback (most recent call last)",
      "\u001b[0;32m<ipython-input-199-61096b16f348>\u001b[0m in \u001b[0;36m<module>\u001b[0;34m\u001b[0m\n\u001b[1;32m     21\u001b[0m             \u001b[0;32massert\u001b[0m \u001b[0mset\u001b[0m\u001b[0;34m(\u001b[0m\u001b[0mnums\u001b[0m\u001b[0;34m)\u001b[0m \u001b[0;34m==\u001b[0m \u001b[0mset\u001b[0m\u001b[0;34m(\u001b[0m\u001b[0mn\u001b[0m\u001b[0;34m)\u001b[0m\u001b[0;34m\u001b[0m\u001b[0;34m\u001b[0m\u001b[0m\n\u001b[1;32m     22\u001b[0m             \u001b[0;32massert\u001b[0m \u001b[0mset\u001b[0m\u001b[0;34m(\u001b[0m\u001b[0mdenoms\u001b[0m\u001b[0;34m)\u001b[0m \u001b[0;34m==\u001b[0m \u001b[0mset\u001b[0m\u001b[0;34m(\u001b[0m\u001b[0md\u001b[0m\u001b[0;34m)\u001b[0m\u001b[0;34m\u001b[0m\u001b[0;34m\u001b[0m\u001b[0m\n\u001b[0;32m---> 23\u001b[0;31m \u001b[0mtest__collect_num_denom\u001b[0m\u001b[0;34m(\u001b[0m\u001b[0;34m)\u001b[0m\u001b[0;34m\u001b[0m\u001b[0;34m\u001b[0m\u001b[0m\n\u001b[0m",
      "\u001b[0;32m<ipython-input-199-61096b16f348>\u001b[0m in \u001b[0;36mtest__collect_num_denom\u001b[0;34m()\u001b[0m\n\u001b[1;32m      9\u001b[0m             \u001b[0mn\u001b[0m\u001b[0;34m,\u001b[0m \u001b[0md\u001b[0m \u001b[0;34m=\u001b[0m \u001b[0;34m[\u001b[0m\u001b[0;34m]\u001b[0m\u001b[0;34m,\u001b[0m \u001b[0;34m[\u001b[0m\u001b[0;34m]\u001b[0m\u001b[0;34m\u001b[0m\u001b[0;34m\u001b[0m\u001b[0m\n\u001b[1;32m     10\u001b[0m             \u001b[0mprint\u001b[0m\u001b[0;34m(\u001b[0m\u001b[0mdump\u001b[0m\u001b[0;34m(\u001b[0m\u001b[0mast\u001b[0m\u001b[0;34m)\u001b[0m\u001b[0;34m)\u001b[0m\u001b[0;34m\u001b[0m\u001b[0;34m\u001b[0m\u001b[0m\n\u001b[0;32m---> 11\u001b[0;31m             \u001b[0m_collect_num_denom\u001b[0m\u001b[0;34m(\u001b[0m\u001b[0mast\u001b[0m\u001b[0;34m,\u001b[0m \u001b[0mn\u001b[0m\u001b[0;34m,\u001b[0m \u001b[0md\u001b[0m\u001b[0;34m)\u001b[0m\u001b[0;34m\u001b[0m\u001b[0;34m\u001b[0m\u001b[0m\n\u001b[0m\u001b[1;32m     12\u001b[0m \u001b[0;34m\u001b[0m\u001b[0m\n\u001b[1;32m     13\u001b[0m             \u001b[0mn\u001b[0m \u001b[0;34m=\u001b[0m \u001b[0;34m[\u001b[0m\u001b[0mterm\u001b[0m \u001b[0;32mfor\u001b[0m \u001b[0mterm\u001b[0m \u001b[0;32min\u001b[0m \u001b[0mn\u001b[0m\u001b[0;34m]\u001b[0m\u001b[0;34m\u001b[0m\u001b[0;34m\u001b[0m\u001b[0m\n",
      "\u001b[0;32m<ipython-input-190-551b80b5cc09>\u001b[0m in \u001b[0;36m_collect_num_denom\u001b[0;34m(ast, nums, denoms)\u001b[0m\n\u001b[1;32m     22\u001b[0m                 \u001b[0mdenoms\u001b[0m\u001b[0;34m.\u001b[0m\u001b[0mappend\u001b[0m\u001b[0;34m(\u001b[0m\u001b[0mast\u001b[0m\u001b[0;34m.\u001b[0m\u001b[0mright\u001b[0m\u001b[0;34m.\u001b[0m\u001b[0mvalue\u001b[0m\u001b[0;34m)\u001b[0m\u001b[0;34m\u001b[0m\u001b[0;34m\u001b[0m\u001b[0m\n\u001b[1;32m     23\u001b[0m             \u001b[0;32melif\u001b[0m \u001b[0misinstance\u001b[0m\u001b[0;34m(\u001b[0m\u001b[0mast\u001b[0m\u001b[0;34m.\u001b[0m\u001b[0mop\u001b[0m\u001b[0;34m,\u001b[0m \u001b[0mMult\u001b[0m\u001b[0;34m)\u001b[0m\u001b[0;34m:\u001b[0m\u001b[0;34m\u001b[0m\u001b[0;34m\u001b[0m\u001b[0m\n\u001b[0;32m---> 24\u001b[0;31m                 \u001b[0mnums\u001b[0m\u001b[0;34m.\u001b[0m\u001b[0mappend\u001b[0m\u001b[0;34m(\u001b[0m\u001b[0mast\u001b[0m\u001b[0;34m.\u001b[0m\u001b[0mleft\u001b[0m\u001b[0;34m.\u001b[0m\u001b[0mvalue\u001b[0m\u001b[0;34m)\u001b[0m\u001b[0;34m\u001b[0m\u001b[0;34m\u001b[0m\u001b[0m\n\u001b[0m",
      "\u001b[0;31mAttributeError\u001b[0m: 'BinOp' object has no attribute 'value'"
     ]
    }
   ],
   "source": [
    "def test__collect_num_denom():\n",
    "        cases = [(strip_parse('1'), (['1'], [])),\n",
    "                 (strip_parse('1/2'), (['1'], ['2'])),\n",
    "                 (strip_parse('1/2*3'), (['1', '3'], ['2'])),\n",
    "#                  (strip_parse('1/(2*3)'), (['1'], ['2', '3'])),\n",
    "#                  (strip_parse('1/(2/3)'), (['1', '3'], ['2']))\n",
    "                 ]\n",
    "        for ast, (nums, denoms) in cases: \n",
    "            n, d = [], []\n",
    "            print(dump(ast))\n",
    "            _collect_num_denom(ast, n, d)\n",
    "           \n",
    "            n = [term for term in n]\n",
    "            d = [term for term in d]\n",
    "            nums = [int(term) for term in nums]\n",
    "            denoms = [int(term) for term in denoms]\n",
    "           \n",
    "            print(n, nums)\n",
    "            print(d, denoms)\n",
    "            print(\"-------------\")\n",
    "            assert set(nums) == set(n)\n",
    "            assert set(denoms) == set(d)\n",
    "test__collect_num_denom()"
   ]
  },
  {
   "cell_type": "code",
   "execution_count": 200,
   "metadata": {},
   "outputs": [],
   "source": [
    "def _collect_num_denom(ast, nums, denoms):\n",
    "    \"\"\"\n",
    "    Append to nums and denoms, respectively, the nodes in the numerator and \n",
    "    denominator of an AST.\n",
    "    \"\"\"\n",
    "    if not isinstance(ast, BinOp):\n",
    "        nums.append(ast.value)\n",
    "        return\n",
    "    if (isinstance(ast.op, Div) or isinstance(ast.op, Mult)):\n",
    "        if isinstance(ast.left, BinOp):\n",
    "            _collect_num_denom(ast.left, nums, denoms)\n",
    "        else:\n",
    "            nums.append(ast.left.value)\n",
    "            print(\"here\", nums)\n",
    "            \n",
    "        if isinstance(ast.right, BinOp):\n",
    "            if isinstance(ast.op, Div):\n",
    "                _collect_num_denom(ast.right, denoms, nums)\n",
    "            elif isinstance(ast.op, Mult):\n",
    "                _collect_num_denom(ast.left, nums, denoms)\n",
    "        else:\n",
    "            if isinstance(ast.op, Div):\n",
    "                denoms.append(ast.right.value)\n",
    "            elif isinstance(ast.op, Mult):\n",
    "                nums.append(ast.right.value)"
   ]
  },
  {
   "cell_type": "code",
   "execution_count": 142,
   "metadata": {},
   "outputs": [],
   "source": [
    "def ast2str(ast, outer = _FARTHEST_OUT, adjust = 0):\n",
    "    \"\"\"\n",
    "    Return the string representation of an AST.\n",
    "\n",
    "    outer: The AST's 'parent' node, used to determine whether or not to \n",
    "        enclose the result in parentheses. The default of _FARTHEST_OUT will\n",
    "        never enclose the result in parentheses.\n",
    "\n",
    "    adjust: A numerical value to adjust the priority of this ast for\n",
    "        particular cases. For example, the denominator of a '/' needs \n",
    "        parentheses in more cases than does the numerator.\n",
    "    \"\"\"\n",
    "    if isinstance(ast, Name):\n",
    "        out = ast.name\n",
    "    elif isinstance(ast, Const):\n",
    "        out = str(ast.value)\n",
    "    elif isinstance(ast, Add):\n",
    "        out = '%s + %s' % (ast2str(ast.left, ast),\n",
    "                           ast2str(ast.right, ast))\n",
    "    elif isinstance(ast, Sub):\n",
    "        out = '%s - %s' % (ast2str(ast.left, ast),\n",
    "                           ast2str(ast.right, ast, adjust = TINY))\n",
    "    elif isinstance(ast, Mul):\n",
    "        out = '%s*%s' % (ast2str(ast.left, ast),\n",
    "                           ast2str(ast.right, ast))\n",
    "    elif isinstance(ast, Div):\n",
    "        # The adjust ensures proper parentheses for x/(y*z)\n",
    "        out = '%s/%s' % (ast2str(ast.left, ast),\n",
    "                           ast2str(ast.right, ast, adjust = TINY))\n",
    "    elif isinstance(ast, Power):\n",
    "        # The adjust ensures proper parentheses for (x**y)**z\n",
    "        out = '%s**%s' % (ast2str(ast.left, ast, adjust = TINY),\n",
    "                          ast2str(ast.right, ast))\n",
    "    elif isinstance(ast, UnarySub):\n",
    "        out = '-%s' % ast2str(ast.expr, ast)\n",
    "    elif isinstance(ast, UnaryAdd):\n",
    "        out = '+%s' % ast2str(ast.expr, ast)\n",
    "    elif isinstance(ast, CallFunc):\n",
    "        args = [ast2str(arg) for arg in ast.args]\n",
    "        out = '%s(%s)' % (ast2str(ast.node), ', '.join(args))\n",
    "    elif isinstance(ast, Subscript):\n",
    "        subs = [ast2str(sub) for sub in ast.subs]\n",
    "        out = '%s[%s]' % (ast2str(ast.expr), ', '.join(subs))\n",
    "    elif isinstance(ast, Slice):\n",
    "        out = '%s[%s:%s]' % (ast2str(ast.expr), ast2str(ast.lower), \n",
    "                             ast2str(ast.upper))\n",
    "    elif isinstance(ast, Sliceobj):\n",
    "        nodes = [ast2str(node) for node in ast.nodes]\n",
    "        out = ':'.join(nodes)\n",
    "    elif isinstance(ast, Compare):\n",
    "        expr = ast2str(ast.expr, ast, adjust=6+TINY)\n",
    "        out_l = [expr]\n",
    "        for op, val in ast.ops:\n",
    "            out_l.append(op)\n",
    "            out_l.append(ast2str(val, ast, adjust=6+TINY))\n",
    "        out = ' '.join(out_l)\n",
    "    elif isinstance(ast, And):\n",
    "        nodes = [ast2str(node, ast, adjust=TINY) for node in ast.nodes]\n",
    "        out = ' and '.join(nodes)\n",
    "    elif isinstance(ast, Or):\n",
    "        nodes = [ast2str(node, ast, adjust=TINY) for node in ast.nodes]\n",
    "        out = ' or '.join(nodes)\n",
    "    elif isinstance(ast, Not):\n",
    "        out = 'not %s' % ast2str(ast.expr, ast, adjust=TINY)\n",
    "\n",
    "    # Ensure parentheses by checking the _OP_ORDER of the outer and inner ASTs\n",
    "    if _need_parens(outer, ast, adjust):\n",
    "        return out\n",
    "    else:\n",
    "        return '(%s)' % out"
   ]
  },
  {
   "cell_type": "code",
   "execution_count": 250,
   "metadata": {},
   "outputs": [
    {
     "name": "stdout",
     "output_type": "stream",
     "text": [
      "BinOp(left=Name(id='x', ctx=Load()), op=Pow(), right=UnaryOp(op=USub(), operand=Name(id='y', ctx=Load())))\n"
     ]
    }
   ],
   "source": [
    "print(dump(strip_parse('x**-y')))\n",
    "y = strip_parse('---x')\n",
    "#  if abs(count) != 1:\n",
    "#             ast_out = BinOp(left=Constant(value=abs(count), op=Mult(), right=Name(id='ast_out', ctx=Load()))\n",
    "                                         \n",
    "        # if count < 0:\n",
    "        #     ast_out = UnaryOp(op=USub(), operand=Name(id='ast_out', ctx=Load()))"
   ]
  },
  {
   "cell_type": "code",
   "execution_count": 249,
   "metadata": {},
   "outputs": [
    {
     "data": {
      "text/plain": [
       "<ast.Name at 0x7fc704745610>"
      ]
     },
     "execution_count": 249,
     "metadata": {},
     "output_type": "execute_result"
    }
   ],
   "source": [
    "y.operand.operand.operand"
   ]
  },
  {
   "cell_type": "code",
   "execution_count": 281,
   "metadata": {},
   "outputs": [
    {
     "name": "stdout",
     "output_type": "stream",
     "text": [
      "BoolOp(op=And(), values=[Compare(left=Name(id='x', ctx=Load()), ops=[Lt()], comparators=[Constant(value=3)]), UnaryOp(op=Not(), operand=Compare(left=Name(id='y', ctx=Load()), ops=[Gt()], comparators=[Constant(value=4)]))])\n"
     ]
    }
   ],
   "source": [
    "print(dump(strip_parse('x < 3 and not y > 4')))\n",
    "# print(strip_parse('x'))"
   ]
  },
  {
   "cell_type": "code",
   "execution_count": 270,
   "metadata": {},
   "outputs": [
    {
     "name": "stdout",
     "output_type": "stream",
     "text": [
      "[<ast.BinOp object at 0x7fc70474da90>, <ast.BinOp object at 0x7fc70474d670>, <ast.BinOp object at 0x7fc70474e850>]\n"
     ]
    },
    {
     "data": {
      "text/plain": [
       "1"
      ]
     },
     "execution_count": 270,
     "metadata": {},
     "output_type": "execute_result"
    }
   ],
   "source": [
    "x = strip_parse('g(x-0+2, y**2 - 0**0, z*y + x/1)')\n",
    "print(x.args)\n",
    "# print(x.right)\n",
    "# print(x.op)\n",
    "x = [1,2]\n",
    "y = []\n",
    "x.count(1)-y.count(1)"
   ]
  },
  {
   "cell_type": "code",
   "execution_count": 275,
   "metadata": {},
   "outputs": [
    {
     "name": "stdout",
     "output_type": "stream",
     "text": [
      "False\n"
     ]
    },
    {
     "ename": "AttributeError",
     "evalue": "'Name' object has no attribute 'getChildren'",
     "output_type": "error",
     "traceback": [
      "\u001b[0;31m---------------------------------------------------------------------------\u001b[0m",
      "\u001b[0;31mAttributeError\u001b[0m                            Traceback (most recent call last)",
      "\u001b[0;32m<ipython-input-275-7120f152326c>\u001b[0m in \u001b[0;36m<module>\u001b[0;34m\u001b[0m\n\u001b[1;32m     23\u001b[0m \u001b[0mNode\u001b[0m \u001b[0;34m=\u001b[0m \u001b[0mAST\u001b[0m\u001b[0;34m\u001b[0m\u001b[0;34m\u001b[0m\u001b[0m\n\u001b[1;32m     24\u001b[0m \u001b[0mNode\u001b[0m\u001b[0;34m.\u001b[0m\u001b[0m__eq__\u001b[0m \u001b[0;34m=\u001b[0m \u001b[0m_node_equal\u001b[0m\u001b[0;34m\u001b[0m\u001b[0;34m\u001b[0m\u001b[0m\n\u001b[0;32m---> 25\u001b[0;31m \u001b[0my\u001b[0m\u001b[0;34m.\u001b[0m\u001b[0m__eq__\u001b[0m\u001b[0;34m(\u001b[0m\u001b[0mx\u001b[0m\u001b[0;34m)\u001b[0m\u001b[0;34m\u001b[0m\u001b[0;34m\u001b[0m\u001b[0m\n\u001b[0m",
      "\u001b[0;32m<ipython-input-275-7120f152326c>\u001b[0m in \u001b[0;36m_node_equal\u001b[0;34m(self, other)\u001b[0m\n\u001b[1;32m     16\u001b[0m         \u001b[0;32mreturn\u001b[0m \u001b[0;32mFalse\u001b[0m\u001b[0;34m\u001b[0m\u001b[0;34m\u001b[0m\u001b[0m\n\u001b[1;32m     17\u001b[0m     \u001b[0;31m# Loop through all children, checking whether they are equal\u001b[0m\u001b[0;34m\u001b[0m\u001b[0;34m\u001b[0m\u001b[0;34m\u001b[0m\u001b[0m\n\u001b[0;32m---> 18\u001b[0;31m     \u001b[0;32mfor\u001b[0m \u001b[0mself_child\u001b[0m\u001b[0;34m,\u001b[0m \u001b[0mother_child\u001b[0m \u001b[0;32min\u001b[0m \u001b[0mzip\u001b[0m\u001b[0;34m(\u001b[0m\u001b[0mself\u001b[0m\u001b[0;34m.\u001b[0m\u001b[0mgetChildren\u001b[0m\u001b[0;34m(\u001b[0m\u001b[0;34m)\u001b[0m\u001b[0;34m,\u001b[0m \u001b[0mother\u001b[0m\u001b[0;34m.\u001b[0m\u001b[0mgetChildren\u001b[0m\u001b[0;34m(\u001b[0m\u001b[0;34m)\u001b[0m\u001b[0;34m)\u001b[0m\u001b[0;34m:\u001b[0m\u001b[0;34m\u001b[0m\u001b[0;34m\u001b[0m\u001b[0m\n\u001b[0m\u001b[1;32m     19\u001b[0m         \u001b[0;32mif\u001b[0m \u001b[0;32mnot\u001b[0m \u001b[0mself_child\u001b[0m \u001b[0;34m==\u001b[0m \u001b[0mother_child\u001b[0m\u001b[0;34m:\u001b[0m\u001b[0;34m\u001b[0m\u001b[0;34m\u001b[0m\u001b[0m\n\u001b[1;32m     20\u001b[0m             \u001b[0;32mreturn\u001b[0m \u001b[0;32mFalse\u001b[0m\u001b[0;34m\u001b[0m\u001b[0;34m\u001b[0m\u001b[0m\n",
      "\u001b[0;31mAttributeError\u001b[0m: 'Name' object has no attribute 'getChildren'"
     ]
    }
   ],
   "source": [
    "x = strip_parse('x')\n",
    "y = strip_parse('x')\n",
    "print(x is y)\n",
    "from ast import *\n",
    "\n",
    "TINY = 1e-12\n",
    "\n",
    "def _node_equal(self, other):\n",
    "    \"\"\"\n",
    "    Return whether self and other represent the same expressions.\n",
    "    Unfortunately, the Node class in Python 2.3 doesn't define ==, so\n",
    "    we need to write our own.\n",
    "    \"\"\"\n",
    "    # We're not equal if other isn't a Node, or if other is a different class.\n",
    "    if not isinstance(other, Node) or not isinstance(other, self.__class__):\n",
    "        return False\n",
    "    # Loop through all children, checking whether they are equal\n",
    "    for self_child, other_child in zip(self.getChildren(), other.getChildren()):\n",
    "        if not self_child == other_child:\n",
    "            return False\n",
    "    # If we get here, our two nodes much be equal\n",
    "    return True\n",
    "Node = AST\n",
    "Node.__eq__ = _node_equal\n",
    "y.__eq__(x)"
   ]
  },
  {
   "cell_type": "code",
   "execution_count": 300,
   "metadata": {},
   "outputs": [
    {
     "name": "stdout",
     "output_type": "stream",
     "text": [
      "Call(func=Name(id='f', ctx=Load()), args=[Name(id='x', ctx=Load())], keywords=[])\n"
     ]
    }
   ],
   "source": [
    "x=strip_parse('f(x)')\n",
    "print(dump(x))\n"
   ]
  },
  {
   "cell_type": "code",
   "execution_count": 299,
   "metadata": {},
   "outputs": [
    {
     "data": {
      "text/plain": [
       "'x'"
      ]
     },
     "execution_count": 299,
     "metadata": {},
     "output_type": "execute_result"
    }
   ],
   "source": [
    "x.id"
   ]
  },
  {
   "cell_type": "code",
   "execution_count": 304,
   "metadata": {},
   "outputs": [
    {
     "name": "stdout",
     "output_type": "stream",
     "text": [
      "Call(func=Name(id='g', ctx=Load()), args=[Name(id='x', ctx=Load())], keywords=[])\n",
      "[<ast.Name object at 0x7fc7047417f0>]\n"
     ]
    }
   ],
   "source": [
    "x=strip_parse('g(x)')\n",
    "print(dump(x))\n",
    "print(x.args)"
   ]
  },
  {
   "cell_type": "code",
   "execution_count": null,
   "metadata": {},
   "outputs": [],
   "source": [
    "def sub_for_func(expr, func_name, func_vars, func_expr):\n",
    "    ast = strip_parse(expr)\n",
    "    func_name_ast = strip_parse(func_name)\n",
    "    if not isinstance(func_name_ast, Name):\n",
    "        raise ValueError('Function name is not a simple name.')\n",
    "    func_name = func_name_ast.name\n",
    "\n",
    "    func_expr_ast = strip_parse(func_expr)\n",
    "    # We can strip_parse  the '*', so we special case it here.\n",
    "    if func_vars == '*':\n",
    "        if not hasattr(func_expr_ast, 'nodes'):\n",
    "            raise ValueError(\"Top-level function in %s does not appear to \"\n",
    "                             \"accept variable number of arguments. (It has no \"\n",
    "                             \"'nodes' attribute.)\" % func_expr)\n",
    "\n",
    "        func_var_names = '*'\n",
    "    else:\n",
    "        func_vars_ast = [strip_parse(var) for var in func_vars]\n",
    "        for var_ast in func_vars_ast:\n",
    "            if not isinstance(var_ast, Name):\n",
    "                raise ValueError('Function variable is not a simple name.')\n",
    "        func_var_names = [getattr(var_ast, 'name') for var_ast in func_vars_ast]\n",
    "\n",
    "    ast = _sub_for_func_ast(ast, func_name, func_var_names, func_expr_ast)\n",
    "    simple = Simplify._simplify_ast(ast)\n",
    "    return ast2str(simple)\n"
   ]
  },
  {
   "cell_type": "code",
   "execution_count": 308,
   "metadata": {},
   "outputs": [
    {
     "name": "stdout",
     "output_type": "stream",
     "text": [
      "<ast.Name object at 0x7fc704748a30>\n",
      "Name(id='or_func', ctx=Load())\n"
     ]
    },
    {
     "ename": "AttributeError",
     "evalue": "'Name' object has no attribute 'values'",
     "output_type": "error",
     "traceback": [
      "\u001b[0;31m---------------------------------------------------------------------------\u001b[0m",
      "\u001b[0;31mAttributeError\u001b[0m                            Traceback (most recent call last)",
      "\u001b[0;32m<ipython-input-308-ded28e1bc3a0>\u001b[0m in \u001b[0;36m<module>\u001b[0;34m\u001b[0m\n\u001b[1;32m      2\u001b[0m \u001b[0mprint\u001b[0m\u001b[0;34m(\u001b[0m\u001b[0mx\u001b[0m\u001b[0;34m)\u001b[0m\u001b[0;34m\u001b[0m\u001b[0;34m\u001b[0m\u001b[0m\n\u001b[1;32m      3\u001b[0m \u001b[0mprint\u001b[0m\u001b[0;34m(\u001b[0m\u001b[0mdump\u001b[0m\u001b[0;34m(\u001b[0m\u001b[0mx\u001b[0m\u001b[0;34m)\u001b[0m\u001b[0;34m)\u001b[0m\u001b[0;34m\u001b[0m\u001b[0;34m\u001b[0m\u001b[0m\n\u001b[0;32m----> 4\u001b[0;31m \u001b[0mprint\u001b[0m\u001b[0;34m(\u001b[0m\u001b[0mx\u001b[0m\u001b[0;34m.\u001b[0m\u001b[0mvalues\u001b[0m\u001b[0;34m)\u001b[0m\u001b[0;34m\u001b[0m\u001b[0;34m\u001b[0m\u001b[0m\n\u001b[0m",
      "\u001b[0;31mAttributeError\u001b[0m: 'Name' object has no attribute 'values'"
     ]
    }
   ],
   "source": [
    "x=strip_parse('or_func')\n",
    "print(x)\n",
    "print(dump(x))\n",
    "print(x.values)"
   ]
  },
  {
   "cell_type": "code",
   "execution_count": 315,
   "metadata": {},
   "outputs": [
    {
     "name": "stdout",
     "output_type": "stream",
     "text": [
      "BinOp(left=Name(id='x', ctx=Load()), op=Pow(), right=Name(id='y', ctx=Load()))\n",
      "<ast.BinOp object at 0x7fc7041f5e80>\n",
      "BinOp(left=Name(id='x', ctx=Load()), op=Call(func=Name(id='pow')), right=Name(id='y', ctx=Load()))\n"
     ]
    }
   ],
   "source": [
    "x=strip_parse('x**y')\n",
    "print(dump(x))\n",
    "print(x)\n",
    "y = BinOp(left=Name(id='x', ctx=Load()), op=Call(Name('pow')), right=Name(id='y', ctx=Load()))\n",
    "print(dump(y))"
   ]
  },
  {
   "cell_type": "code",
   "execution_count": 318,
   "metadata": {},
   "outputs": [
    {
     "data": {
      "text/plain": [
       "int"
      ]
     },
     "execution_count": 318,
     "metadata": {},
     "output_type": "execute_result"
    }
   ],
   "source": [
    "x=strip_parse('1')\n",
    "type(x.value)"
   ]
  },
  {
   "cell_type": "code",
   "execution_count": 326,
   "metadata": {},
   "outputs": [
    {
     "name": "stdout",
     "output_type": "stream",
     "text": [
      "Compare(left=Name(id='a', ctx=Load()), ops=[('&&', <ast.Name object at 0x7fc7041d76a0>)])\n",
      "BoolOp(op=And(), values=[Name(id='a', ctx=Load()), Name(id='b', ctx=Load())])\n"
     ]
    }
   ],
   "source": [
    "x=strip_parse(\"a and b\")\n",
    "ops = [('&&', node) for node in x.values[1:]]\n",
    "x = Compare(x.values[0], ops)\n",
    "print(dump(x))\n",
    "y=strip_parse(\"a and b\")\n",
    "print(dump(y))"
   ]
  },
  {
   "cell_type": "code",
   "execution_count": 328,
   "metadata": {},
   "outputs": [
    {
     "data": {
      "text/plain": [
       "\"UnaryOp(op=Not(), operand=Name(id='b', ctx=Load()))\""
      ]
     },
     "execution_count": 328,
     "metadata": {},
     "output_type": "execute_result"
    }
   ],
   "source": [
    "x=strip_parse(\"not b\")\n",
    "dump(x)"
   ]
  },
  {
   "cell_type": "code",
   "execution_count": 336,
   "metadata": {},
   "outputs": [
    {
     "data": {
      "text/plain": [
       "\"BinOp(left=BinOp(left=UnaryOp(op=USub(), operand=Name(id='num', ctx=Load())), op=Mult(), right=Name(id='denom_d', ctx=Load())), op=Div(), right=BinOp(left=Name(id='denom', ctx=Load()), op=Pow(), right=Constant(value=2)))\""
      ]
     },
     "execution_count": 336,
     "metadata": {},
     "output_type": "execute_result"
    }
   ],
   "source": [
    "y = strip_parse(\"a/b\")\n",
    "dump(y)\n",
    "# Div((Mult((USub(num), denom_d)), Pow((denom, Constant(2)))))\n",
    "num =1 \n",
    "denom_d = 2\n",
    "denom = 3\n",
    "z = strip_parse('(-num * denom_d) / (denom ** 2)')\n",
    "dump(z)"
   ]
  },
  {
   "cell_type": "code",
   "execution_count": 338,
   "metadata": {},
   "outputs": [
    {
     "data": {
      "text/plain": [
       "\"BinOp(left=Name(id='a', ctx=Load()), op=Add(), right=Name(id='b', ctx=Load()))\""
      ]
     },
     "execution_count": 338,
     "metadata": {},
     "output_type": "execute_result"
    }
   ],
   "source": [
    "y = strip_parse('a+b')\n",
    "dump(y)"
   ]
  },
  {
   "cell_type": "code",
   "execution_count": 346,
   "metadata": {},
   "outputs": [
    {
     "name": "stdout",
     "output_type": "stream",
     "text": [
      "Call(func=Name(id='f', ctx=Load()), args=[Name(id='x', ctx=Load())], keywords=[])\n"
     ]
    },
    {
     "data": {
      "text/plain": [
       "[<ast.Name at 0x7fc7041f53a0>]"
      ]
     },
     "execution_count": 346,
     "metadata": {},
     "output_type": "execute_result"
    }
   ],
   "source": [
    "x = strip_parse('f(x)')\n",
    "print(dump(x))\n",
    "dump(x.func)\n",
    "x.args"
   ]
  },
  {
   "cell_type": "code",
   "execution_count": 345,
   "metadata": {},
   "outputs": [
    {
     "name": "stdout",
     "output_type": "stream",
     "text": [
      "Name(id='x', ctx=Load())\n"
     ]
    }
   ],
   "source": [
    "x = strip_parse('x')\n",
    "print(dump(x))"
   ]
  },
  {
   "cell_type": "code",
   "execution_count": 348,
   "metadata": {},
   "outputs": [
    {
     "name": "stdout",
     "output_type": "stream",
     "text": [
      "x1 UnaryOp(op=UAdd(), operand=Name(id='x', ctx=Load()))\n",
      "x2 UnaryOp(op=USub(), operand=Name(id='x', ctx=Load()))\n",
      "BinOp(left=Name(id='x', ctx=Load()), op=Mult(), right=Name(id='y', ctx=Load()))\n"
     ]
    }
   ],
   "source": [
    "x = strip_parse('x*y')\n",
    "x1 = strip_parse('+x')\n",
    "print(\"x1\", dump(x1))\n",
    "x2 = strip_parse('-x')\n",
    "print(\"x2\", dump(x2))\n",
    "print(dump(x))"
   ]
  },
  {
   "cell_type": "code",
   "execution_count": 351,
   "metadata": {},
   "outputs": [
    {
     "name": "stdout",
     "output_type": "stream",
     "text": [
      "Call(func=Name(id='f', ctx=Load()), args=[Name(id='x', ctx=Load()), Name(id='y', ctx=Load())], keywords=[])\n"
     ]
    }
   ],
   "source": [
    "x = strip_parse('f(x, y)')\n",
    "print(dump(x))"
   ]
  },
  {
   "cell_type": "code",
   "execution_count": null,
   "metadata": {},
   "outputs": [],
   "source": [
    "('pow', 2): ('arg1 * arg0**(arg1-1)', 'log(arg0) * arg0**arg1')"
   ]
  },
  {
   "cell_type": "code",
   "execution_count": null,
   "metadata": {},
   "outputs": [],
   "source": [
    "BinOp(left=Name(id='arg1', ctx=Load()), op=Mult(), right=BinOp(left=Name(id='arg0', ctx=Load()), op=Pow(), right=BinOp(left=Name(id='arg1', ctx=Load()), op=Sub(), right=Constant(value=1)))) BinOp(left=Call(func=Name(id='log', ctx=Load()), args=[Name(id='arg0', ctx=Load())], keywords=[]), op=Mult(), right=BinOp(left=Name(id='arg0', ctx=Load()), op=Pow(), right=Name(id='arg1', ctx=Load())))"
   ]
  },
  {
   "cell_type": "code",
   "execution_count": 352,
   "metadata": {},
   "outputs": [],
   "source": [
    "x=BinOp(left=BinOp(left=Name(id='y', ctx=Load()), op=Mult(), right=BinOp(left=Name(id='x', ctx=Load()), op=Pow(), right=BinOp(left=Name(id='y', ctx=Load()), op=Sub(), right=Constant(value=1)))), op=Mult(), right=Constant(value=1))"
   ]
  },
  {
   "cell_type": "code",
   "execution_count": 353,
   "metadata": {},
   "outputs": [
    {
     "data": {
      "text/plain": [
       "'y * x ** (y - 1) * 1'"
      ]
     },
     "execution_count": 353,
     "metadata": {},
     "output_type": "execute_result"
    }
   ],
   "source": [
    "unparse(x)"
   ]
  },
  {
   "cell_type": "code",
   "execution_count": 356,
   "metadata": {},
   "outputs": [
    {
     "name": "stdout",
     "output_type": "stream",
     "text": [
      "1\n"
     ]
    }
   ],
   "source": [
    "import functools\n",
    "import operator\n",
    "value = functools.reduce(operator.mul, [1] + [1])\n",
    "print(value)"
   ]
  },
  {
   "cell_type": "code",
   "execution_count": 357,
   "metadata": {},
   "outputs": [
    {
     "data": {
      "text/plain": [
       "[1, 1]"
      ]
     },
     "execution_count": 357,
     "metadata": {},
     "output_type": "execute_result"
    }
   ],
   "source": [
    "[1] + [1]\n",
    "x=BinOp(left=BinOp(left=Name(id='y', ctx=Load()), op=Mult(),\n",
    "right=BinOp(left=Name(id='x', ctx=Load()), op=Pow(), \n",
    "right=BinOp(left=Name(id='y', ctx=Load()),\n",
    "op=Sub(), right=Constant(value=1)))), op=Mult(), right=Constant(value=1))"
   ]
  },
  {
   "cell_type": "code",
   "execution_count": null,
   "metadata": {},
   "outputs": [],
   "source": [
    "(y*x) power (y-1) product 1"
   ]
  },
  {
   "cell_type": "code",
   "execution_count": 380,
   "metadata": {},
   "outputs": [
    {
     "name": "stdout",
     "output_type": "stream",
     "text": [
      "<ast.Mult object at 0x7fc7113c8a60>\n",
      "BinOp(left=Name(id='y', ctx=Load()), op=Mult(), right=BinOp(left=Name(id='x', ctx=Load()), op=Pow(), right=BinOp(left=Name(id='y', ctx=Load()), op=Sub(), right=Constant(value=1))))\n",
      "Constant(value=1)\n"
     ]
    }
   ],
   "source": [
    "x='y * x ** (y - 1) * 1'\n",
    "y = strip_parse(x)\n",
    "print(y.op)\n",
    "print(dump(y.left))\n",
    "print(dump(y.right))"
   ]
  },
  {
   "cell_type": "code",
   "execution_count": 417,
   "metadata": {},
   "outputs": [
    {
     "data": {
      "text/plain": [
       "'Pow()'"
      ]
     },
     "execution_count": 417,
     "metadata": {},
     "output_type": "execute_result"
    }
   ],
   "source": [
    "(dump(y.left.right.op))"
   ]
  },
  {
   "cell_type": "code",
   "execution_count": 364,
   "metadata": {},
   "outputs": [
    {
     "name": "stdout",
     "output_type": "stream",
     "text": [
      "y ** 2 * x ** (y - 1)\n"
     ]
    }
   ],
   "source": [
    "q =  BinOp(left=BinOp(left=Name(id='y', ctx=Load()), op=Pow(), right=Constant(value=2)), op=Mult(), right=BinOp(left=Name(id='x', ctx=Load()), op=Pow(), right=BinOp(left=Name(id='y', ctx=Load()), op=Sub(), right=Constant(value=1))))\n",
    "print(unparse(q))"
   ]
  },
  {
   "cell_type": "code",
   "execution_count": null,
   "metadata": {},
   "outputs": [],
   "source": [
    "g_1(x + cos(x*z) - y*x, y**z, x - z*14)*z*y**(z - 1) - g_0(x + cos(x*z) - y*x, y**z, x - z*14)*x"
   ]
  },
  {
   "cell_type": "code",
   "execution_count": 422,
   "metadata": {},
   "outputs": [
    {
     "data": {
      "text/plain": [
       "'b'"
      ]
     },
     "execution_count": 422,
     "metadata": {},
     "output_type": "execute_result"
    }
   ],
   "source": [
    "x=strip_parse(\"-b\")\n",
    "x.operand.id"
   ]
  },
  {
   "cell_type": "code",
   "execution_count": null,
   "metadata": {},
   "outputs": [],
   "source": [
    "g_0(x + cos(x * z) - y * x, y ** z, x - z * 14) * -x + g_1(x + cos(x * z) - y * x, y ** z, x - z * 14) ** 2"
   ]
  },
  {
   "cell_type": "code",
   "execution_count": 418,
   "metadata": {},
   "outputs": [
    {
     "ename": "NameError",
     "evalue": "name 'g' is not defined",
     "output_type": "error",
     "traceback": [
      "\u001b[0;31m---------------------------------------------------------------------------\u001b[0m",
      "\u001b[0;31mNameError\u001b[0m                                 Traceback (most recent call last)",
      "\u001b[0;32m<ipython-input-418-6eacc9fd010a>\u001b[0m in \u001b[0;36m<module>\u001b[0;34m\u001b[0m\n\u001b[0;32m----> 1\u001b[0;31m \u001b[0mg\u001b[0m\u001b[0;34m(\u001b[0m\u001b[0mx\u001b[0m \u001b[0;34m-\u001b[0m \u001b[0my\u001b[0m\u001b[0;34m*\u001b[0m\u001b[0mx\u001b[0m \u001b[0;34m+\u001b[0m \u001b[0mcos\u001b[0m\u001b[0;34m(\u001b[0m\u001b[0mx\u001b[0m\u001b[0;34m*\u001b[0m\u001b[0mz\u001b[0m\u001b[0;34m)\u001b[0m\u001b[0;34m,\u001b[0m \u001b[0my\u001b[0m\u001b[0;34m**\u001b[0m\u001b[0mz\u001b[0m\u001b[0;34m,\u001b[0m \u001b[0mx\u001b[0m \u001b[0;34m-\u001b[0m \u001b[0;36m14\u001b[0m\u001b[0;34m*\u001b[0m\u001b[0mz\u001b[0m\u001b[0;34m)\u001b[0m\u001b[0;34m\u001b[0m\u001b[0;34m\u001b[0m\u001b[0m\n\u001b[0m",
      "\u001b[0;31mNameError\u001b[0m: name 'g' is not defined"
     ]
    }
   ],
   "source": [
    "g(x - y*x + cos(x*z), y**z, x - 14*z)"
   ]
  },
  {
   "cell_type": "code",
   "execution_count": 419,
   "metadata": {},
   "outputs": [
    {
     "data": {
      "text/plain": [
       "'g_0(x + cos(x * z) - y * x, y ** z, x - z * 14)'"
      ]
     },
     "execution_count": 419,
     "metadata": {},
     "output_type": "execute_result"
    }
   ],
   "source": [
    "x= Call(func=Name(id='g_0', ctx=Load()), args=[BinOp(left=BinOp(left=Name(id='x', ctx=Load()), op=Add(), right=Call(func=Name(id='cos', ctx=Load()), args=[BinOp(left=Name(id='x', ctx=Load()), op=Mult(), right=Name(id='z', ctx=Load()))], keywords=[])), op=Sub(), right=BinOp(left=Name(id='y', ctx=Load()), op=Mult(), right=Name(id='x', ctx=Load()))), BinOp(left=Name(id='y', ctx=Load()), op=Pow(), right=Name(id='z', ctx=Load())), BinOp(left=Name(id='x', ctx=Load()), op=Sub(), right=BinOp(left=Name(id='z', ctx=Load()), op=Mult(), right=Constant(value=14)))], keywords=[])\n",
    "unparse(x)"
   ]
  },
  {
   "cell_type": "code",
   "execution_count": 420,
   "metadata": {},
   "outputs": [
    {
     "data": {
      "text/plain": [
       "'g_1(x + cos(x * z) - y * x, y ** z, x - z * 14)'"
      ]
     },
     "execution_count": 420,
     "metadata": {},
     "output_type": "execute_result"
    }
   ],
   "source": [
    "z=Call(func=Name(id='g_1', ctx=Load()), args=[BinOp(left=BinOp(left=Name(id='x', ctx=Load()), op=Add(), right=Call(func=Name(id='cos', ctx=Load()), args=[BinOp(left=Name(id='x', ctx=Load()), op=Mult(), right=Name(id='z', ctx=Load()))], keywords=[])), op=Sub(), right=BinOp(left=Name(id='y', ctx=Load()), op=Mult(), right=Name(id='x', ctx=Load()))), BinOp(left=Name(id='y', ctx=Load()), op=Pow(), right=Name(id='z', ctx=Load())), BinOp(left=Name(id='x', ctx=Load()), op=Sub(), right=BinOp(left=Name(id='z', ctx=Load()), op=Mult(), right=Constant(value=14)))], keywords=[])\n",
    "unparse(z)"
   ]
  },
  {
   "cell_type": "code",
   "execution_count": 434,
   "metadata": {},
   "outputs": [
    {
     "name": "stdout",
     "output_type": "stream",
     "text": [
      "<ast.Mult object at 0x7fc70474d3a0>\n"
     ]
    }
   ],
   "source": [
    "q= BinOp(left=BinOp(left=Name(id='z', ctx=Load()), op=Mult(), right=BinOp(left=Name(id='y', ctx=Load()), op=Pow(), right=BinOp(left=Name(id='z', ctx=Load()), op=Sub(), right=Constant(value=1)))), op=Mult(), right=Constant(value=1))\n",
    "print(q.op)\n",
    "print()"
   ]
  },
  {
   "cell_type": "code",
   "execution_count": 436,
   "metadata": {},
   "outputs": [
    {
     "name": "stdout",
     "output_type": "stream",
     "text": [
      "BinOp(left=Constant(value=None), op=Mult(), right=Constant(value=None))\n"
     ]
    }
   ],
   "source": [
    "z=strip_parse('None * None')\n",
    "print(dump(z))"
   ]
  },
  {
   "cell_type": "code",
   "execution_count": 446,
   "metadata": {},
   "outputs": [
    {
     "name": "stdout",
     "output_type": "stream",
     "text": [
      "Call(func=Name(id='f', ctx=Load()), args=[Name(id='b', ctx=Load())], keywords=[])\n"
     ]
    }
   ],
   "source": [
    "z=strip_parse('f(b)')\n",
    "print(dump(z))\n",
    "import ast"
   ]
  },
  {
   "cell_type": "code",
   "execution_count": 443,
   "metadata": {},
   "outputs": [
    {
     "name": "stdout",
     "output_type": "stream",
     "text": [
      "<ast.Constant object at 0x7fc7047aadc0>\n"
     ]
    }
   ],
   "source": [
    "from ast import *\n",
    "print(Constant(value=0))"
   ]
  },
  {
   "cell_type": "code",
   "execution_count": 30,
   "metadata": {},
   "outputs": [
    {
     "name": "stdout",
     "output_type": "stream",
     "text": [
      "BoolOp(op=And(), values=[Compare(left=Name(id='a', ctx=Load()), ops=[Gt()], comparators=[Name(id='b', ctx=Load())]), Compare(left=Constant(value=1), ops=[Gt()], comparators=[Constant(value=2)]), Name(id='c', ctx=Load())])\n",
      "[('&&', <ast.Compare object at 0x7f2700492640>), ('&&', <ast.Name object at 0x7f26fcc275e0>)]\n",
      "dddddddddd\n",
      "Compare(left=Compare(left=Name(id='a', ctx=Load()), ops=[Gt()], comparators=[Name(id='b', ctx=Load())]), ops=[('&&', <ast.Compare object at 0x7f2700492640>), ('&&', <ast.Name object at 0x7f26fcc275e0>)])\n"
     ]
    }
   ],
   "source": [
    "z=strip_parse('a > b and 1 > 2 and c').body[0].value\n",
    "print(dump(z))\n",
    "nodes = z.values\n",
    "ops = [('&&', node) for node in nodes[1:]]\n",
    "print(ops)\n",
    "for q in ops:\n",
    "    Compare(left=)\n",
    "ast = Compare(left=nodes[0], ops=ops)\n",
    "print(\"dddddddddd\")\n",
    "print(dump(ast))\n"
   ]
  },
  {
   "cell_type": "code",
   "execution_count": 8,
   "metadata": {},
   "outputs": [
    {
     "ename": "TypeError",
     "evalue": "'list' object is not callable",
     "output_type": "error",
     "traceback": [
      "\u001b[0;31m---------------------------------------------------------------------------\u001b[0m",
      "\u001b[0;31mTypeError\u001b[0m                                 Traceback (most recent call last)",
      "\u001b[0;32m<ipython-input-8-ad1a8df1aff8>\u001b[0m in \u001b[0;36m<module>\u001b[0;34m\u001b[0m\n\u001b[1;32m      1\u001b[0m \u001b[0mq\u001b[0m\u001b[0;34m=\u001b[0m\u001b[0mBoolOp\u001b[0m\u001b[0;34m(\u001b[0m\u001b[0mop\u001b[0m\u001b[0;34m=\u001b[0m\u001b[0mAnd\u001b[0m\u001b[0;34m(\u001b[0m\u001b[0;34m)\u001b[0m\u001b[0;34m,\u001b[0m \u001b[0mvalues\u001b[0m\u001b[0;34m=\u001b[0m\u001b[0;34m[\u001b[0m\u001b[0mCompare\u001b[0m\u001b[0;34m(\u001b[0m\u001b[0mleft\u001b[0m\u001b[0;34m=\u001b[0m\u001b[0mName\u001b[0m\u001b[0;34m(\u001b[0m\u001b[0mid\u001b[0m\u001b[0;34m=\u001b[0m\u001b[0;34m'X0'\u001b[0m\u001b[0;34m,\u001b[0m \u001b[0mctx\u001b[0m\u001b[0;34m=\u001b[0m\u001b[0mLoad\u001b[0m\u001b[0;34m(\u001b[0m\u001b[0;34m)\u001b[0m\u001b[0;34m)\u001b[0m\u001b[0;34m,\u001b[0m \u001b[0mops\u001b[0m\u001b[0;34m=\u001b[0m\u001b[0;34m[\u001b[0m\u001b[0mLt\u001b[0m\u001b[0;34m(\u001b[0m\u001b[0;34m)\u001b[0m\u001b[0;34m]\u001b[0m\u001b[0;34m,\u001b[0m \u001b[0mcomparators\u001b[0m\u001b[0;34m=\u001b[0m\u001b[0;34m[\u001b[0m\u001b[0mConstant\u001b[0m\u001b[0;34m(\u001b[0m\u001b[0mvalue\u001b[0m\u001b[0;34m=\u001b[0m\u001b[0;36m0.8\u001b[0m\u001b[0;34m)\u001b[0m\u001b[0;34m]\u001b[0m\u001b[0;34m)\u001b[0m\u001b[0;34m,\u001b[0m \u001b[0mCompare\u001b[0m\u001b[0;34m(\u001b[0m\u001b[0mleft\u001b[0m\u001b[0;34m=\u001b[0m\u001b[0mName\u001b[0m\u001b[0;34m(\u001b[0m\u001b[0mid\u001b[0m\u001b[0;34m=\u001b[0m\u001b[0;34m'T'\u001b[0m\u001b[0;34m,\u001b[0m \u001b[0mctx\u001b[0m\u001b[0;34m=\u001b[0m\u001b[0mLoad\u001b[0m\u001b[0;34m(\u001b[0m\u001b[0;34m)\u001b[0m\u001b[0;34m)\u001b[0m\u001b[0;34m,\u001b[0m \u001b[0mops\u001b[0m\u001b[0;34m=\u001b[0m\u001b[0;34m[\u001b[0m\u001b[0mGt\u001b[0m\u001b[0;34m(\u001b[0m\u001b[0;34m)\u001b[0m\u001b[0;34m]\u001b[0m\u001b[0;34m,\u001b[0m \u001b[0mcomparators\u001b[0m\u001b[0;34m=\u001b[0m\u001b[0;34m[\u001b[0m\u001b[0mConstant\u001b[0m\u001b[0;34m(\u001b[0m\u001b[0mvalue\u001b[0m\u001b[0;34m=\u001b[0m\u001b[0;36m0.3\u001b[0m\u001b[0;34m)\u001b[0m\u001b[0;34m]\u001b[0m\u001b[0;34m)\u001b[0m\u001b[0;34m]\u001b[0m\u001b[0;34m)\u001b[0m\u001b[0;34m\u001b[0m\u001b[0;34m\u001b[0m\u001b[0m\n\u001b[1;32m      2\u001b[0m \u001b[0;31m# print(unparse(q))\u001b[0m\u001b[0;34m\u001b[0m\u001b[0;34m\u001b[0m\u001b[0;34m\u001b[0m\u001b[0m\n\u001b[0;32m----> 3\u001b[0;31m \u001b[0mq\u001b[0m\u001b[0;34m.\u001b[0m\u001b[0mvalues\u001b[0m\u001b[0;34m(\u001b[0m\u001b[0;34m)\u001b[0m\u001b[0;34m\u001b[0m\u001b[0;34m\u001b[0m\u001b[0m\n\u001b[0m",
      "\u001b[0;31mTypeError\u001b[0m: 'list' object is not callable"
     ]
    }
   ],
   "source": [
    "q=BoolOp(op=And(), values=[Compare(left=Name(id='X0', ctx=Load()), ops=[Lt()], comparators=[Constant(value=0.8)]), Compare(left=Name(id='T', ctx=Load()), ops=[Gt()], comparators=[Constant(value=0.3)])])\n",
    "# print(unparse(q))\n",
    "q.values()\n",
    "Compare(left=Compare(left=Name(id='X0', ctx=Load()), ops=[Lt()], comparators=[Constant(value=0.8)]), ops=[('&&', <ast.Compare object at 0x7f0ef11c21f0>)])"
   ]
  },
  {
   "cell_type": "code",
   "execution_count": 101,
   "metadata": {},
   "outputs": [
    {
     "name": "stdout",
     "output_type": "stream",
     "text": [
      "Subscript(value=Name(id='l', ctx=Load()), slice=Tuple(elts=[Slice(lower=Constant(value=1), upper=Constant(value=2)), Constant(value=3)], ctx=Load()), ctx=Load())\n",
      "<ast.Name object at 0x7fb57c3b3e80>\n"
     ]
    },
    {
     "ename": "TypeError",
     "evalue": "'Tuple' object is not subscriptable",
     "output_type": "error",
     "traceback": [
      "\u001b[0;31m---------------------------------------------------------------------------\u001b[0m",
      "\u001b[0;31mTypeError\u001b[0m                                 Traceback (most recent call last)",
      "\u001b[0;32m<ipython-input-101-6b0c88dca5b4>\u001b[0m in \u001b[0;36m<module>\u001b[0;34m\u001b[0m\n\u001b[1;32m      3\u001b[0m \u001b[0mprint\u001b[0m\u001b[0;34m(\u001b[0m\u001b[0mdump\u001b[0m\u001b[0;34m(\u001b[0m\u001b[0mz\u001b[0m\u001b[0;34m)\u001b[0m\u001b[0;34m)\u001b[0m\u001b[0;34m\u001b[0m\u001b[0;34m\u001b[0m\u001b[0m\n\u001b[1;32m      4\u001b[0m \u001b[0mprint\u001b[0m\u001b[0;34m(\u001b[0m\u001b[0mz\u001b[0m\u001b[0;34m.\u001b[0m\u001b[0mvalue\u001b[0m\u001b[0;34m)\u001b[0m\u001b[0;34m\u001b[0m\u001b[0;34m\u001b[0m\u001b[0m\n\u001b[0;32m----> 5\u001b[0;31m \u001b[0mprint\u001b[0m\u001b[0;34m(\u001b[0m\u001b[0mz\u001b[0m\u001b[0;34m.\u001b[0m\u001b[0mslice\u001b[0m\u001b[0;34m[\u001b[0m\u001b[0;36m0\u001b[0m\u001b[0;34m]\u001b[0m\u001b[0;34m)\u001b[0m\u001b[0;34m\u001b[0m\u001b[0;34m\u001b[0m\u001b[0m\n\u001b[0m\u001b[1;32m      6\u001b[0m \u001b[0mprint\u001b[0m\u001b[0;34m(\u001b[0m\u001b[0mz\u001b[0m\u001b[0;34m.\u001b[0m\u001b[0mctx\u001b[0m\u001b[0;34m)\u001b[0m\u001b[0;34m\u001b[0m\u001b[0;34m\u001b[0m\u001b[0m\n",
      "\u001b[0;31mTypeError\u001b[0m: 'Tuple' object is not subscriptable"
     ]
    }
   ],
   "source": [
    "x =  strip_parse('l[1:2, 3]')\n",
    "z= x.body[0].value\n",
    "print(dump(z))\n",
    "print(z.value)\n",
    "print(z.slice[0])\n",
    "print(z.ctx)"
   ]
  },
  {
   "cell_type": "code",
   "execution_count": 115,
   "metadata": {},
   "outputs": [
    {
     "data": {
      "text/plain": [
       "[<ast.Slice at 0x7fb57c4904f0>, <ast.Constant at 0x7fb57c4909d0>]"
      ]
     },
     "execution_count": 115,
     "metadata": {},
     "output_type": "execute_result"
    }
   ],
   "source": [
    "q=Tuple(elts=[Slice(lower=Constant(value=1), upper=Constant(value=2)), Constant(value=3)])\n",
    "q.elts"
   ]
  },
  {
   "cell_type": "code",
   "execution_count": 119,
   "metadata": {},
   "outputs": [
    {
     "name": "stdout",
     "output_type": "stream",
     "text": [
      "<ast.Name object at 0x7fb57c492730>\n",
      "<ast.Constant object at 0x7fb57c491cd0>\n"
     ]
    },
    {
     "data": {
      "text/plain": [
       "\"Subscript(value=Name(id='l', ctx=Load()), slice=Slice(lower=Constant(value=1), upper=Constant(value=2)), ctx=Load())\""
      ]
     },
     "execution_count": 119,
     "metadata": {},
     "output_type": "execute_result"
    }
   ],
   "source": [
    "x =  strip_parse('l[1:2]')\n",
    "z= x.body[0].value\n",
    "print(z.value)\n",
    "print(z.slice.lower)\n",
    "dump(z)"
   ]
  },
  {
   "cell_type": "code",
   "execution_count": 21,
   "metadata": {},
   "outputs": [
    {
     "ename": "AttributeError",
     "evalue": "'Subscript' object has no attribute 'values'",
     "output_type": "error",
     "traceback": [
      "\u001b[0;31m---------------------------------------------------------------------------\u001b[0m",
      "\u001b[0;31mAttributeError\u001b[0m                            Traceback (most recent call last)",
      "\u001b[0;32m<ipython-input-21-85f4fbd6ff10>\u001b[0m in \u001b[0;36m<module>\u001b[0;34m\u001b[0m\n\u001b[1;32m      1\u001b[0m \u001b[0mz\u001b[0m\u001b[0;34m=\u001b[0m\u001b[0mSubscript\u001b[0m\u001b[0;34m(\u001b[0m\u001b[0mvalue\u001b[0m\u001b[0;34m=\u001b[0m\u001b[0mName\u001b[0m\u001b[0;34m(\u001b[0m\u001b[0mid\u001b[0m\u001b[0;34m=\u001b[0m\u001b[0;34m'alg_yp'\u001b[0m\u001b[0;34m,\u001b[0m \u001b[0mctx\u001b[0m\u001b[0;34m=\u001b[0m\u001b[0mLoad\u001b[0m\u001b[0;34m(\u001b[0m\u001b[0;34m)\u001b[0m\u001b[0;34m)\u001b[0m\u001b[0;34m,\u001b[0m \u001b[0mslice\u001b[0m\u001b[0;34m=\u001b[0m\u001b[0mConstant\u001b[0m\u001b[0;34m(\u001b[0m\u001b[0mvalue\u001b[0m\u001b[0;34m=\u001b[0m\u001b[0;36m0\u001b[0m\u001b[0;34m)\u001b[0m\u001b[0;34m,\u001b[0m \u001b[0mctx\u001b[0m\u001b[0;34m=\u001b[0m\u001b[0mLoad\u001b[0m\u001b[0;34m(\u001b[0m\u001b[0;34m)\u001b[0m\u001b[0;34m)\u001b[0m\u001b[0;34m\u001b[0m\u001b[0;34m\u001b[0m\u001b[0m\n\u001b[0;32m----> 2\u001b[0;31m \u001b[0mz\u001b[0m\u001b[0;34m.\u001b[0m\u001b[0mvalues\u001b[0m\u001b[0;34m\u001b[0m\u001b[0;34m\u001b[0m\u001b[0m\n\u001b[0m\u001b[1;32m      3\u001b[0m \u001b[0mprint\u001b[0m\u001b[0;34m(\u001b[0m\u001b[0munparse\u001b[0m\u001b[0;34m(\u001b[0m\u001b[0mz\u001b[0m\u001b[0;34m)\u001b[0m\u001b[0;34m)\u001b[0m\u001b[0;34m\u001b[0m\u001b[0;34m\u001b[0m\u001b[0m\n",
      "\u001b[0;31mAttributeError\u001b[0m: 'Subscript' object has no attribute 'values'"
     ]
    }
   ],
   "source": [
    "z=Subscript(value=Name(id='alg_yp', ctx=Load()), slice=Constant(value=0), ctx=Load())\n",
    "z.values\n",
    "print(unparse(z))"
   ]
  },
  {
   "cell_type": "code",
   "execution_count": 66,
   "metadata": {},
   "outputs": [
    {
     "name": "stdout",
     "output_type": "stream",
     "text": [
      "GtE\n"
     ]
    }
   ],
   "source": [
    "x =  strip_parse('a >= b')\n",
    "z= x.body[0].value\n",
    "# y = Compare(left=z.values[0], ops=())\n",
    "dump(z)\n",
    "(dump(z))\n",
    "print((z.ops[0].__class__.__name__))\n",
    "# y = Compare(left=z.values[0], ops='&&', comparators=z.values[1:])\n",
    "q= {\"<class 'ast.GtE'>\": \"=\", \"ast.NotEq\": \"!=\", \"ast.Lt\": \"<\", \"ast.Gt\": \">\", \"ast.GtE\": \">=\", \"ast.LtE\": \"<=\"}\n",
    "if z.ops[0] in q:\n",
    "    print(z.ops[0])"
   ]
  },
  {
   "cell_type": "code",
   "execution_count": 91,
   "metadata": {},
   "outputs": [
    {
     "name": "stdout",
     "output_type": "stream",
     "text": [
      "BoolOp(op=And(), values=[Name(id='a', ctx=Load()), Name(id='b', ctx=Load())])\n",
      "Call(func=Name(id='&&', ctx=Load()), args=[Name(id='a', ctx=Load()), Name(id='b', ctx=Load())], keywords=[])\n",
      "&&(a, b)\n"
     ]
    }
   ],
   "source": [
    "from ast import *\n",
    "x = strip_parse('a and b').body[0].value\n",
    "print(dump(x))\n",
    "y = Call(func=Name(id='&&', ctx=Load()), args=[x.values[0], x.values[1]], keywords=[])\n",
    "print(dump(y))\n",
    "print(unparse(y))\n",
    "# z = BoolOp(op=Name(id='&&'), values=[Name(id='a', ctx=Load()), Name(id='b', ctx=Load())])\n",
    "# print(dump(z))\n",
    "# unparse(z)"
   ]
  },
  {
   "cell_type": "code",
   "execution_count": 100,
   "metadata": {},
   "outputs": [
    {
     "name": "stdout",
     "output_type": "stream",
     "text": [
      "Compare(left=Name(id='a', ctx=Load()), ops=[Lt()], comparators=[BinOp(left=Name(id='a', ctx=Load()), op=Add(), right=Name(id='b', ctx=Load()))])\n"
     ]
    },
    {
     "ename": "AttributeError",
     "evalue": "'Compare' object has no attribute 'body'",
     "output_type": "error",
     "traceback": [
      "\u001b[0;31m---------------------------------------------------------------------------\u001b[0m",
      "\u001b[0;31mAttributeError\u001b[0m                            Traceback (most recent call last)",
      "\u001b[0;32m<ipython-input-100-ed09ac6ed839>\u001b[0m in \u001b[0;36m<module>\u001b[0;34m\u001b[0m\n\u001b[1;32m      2\u001b[0m \u001b[0mprint\u001b[0m\u001b[0;34m(\u001b[0m\u001b[0mdump\u001b[0m\u001b[0;34m(\u001b[0m\u001b[0mv\u001b[0m\u001b[0;34m)\u001b[0m\u001b[0;34m)\u001b[0m\u001b[0;34m\u001b[0m\u001b[0;34m\u001b[0m\u001b[0m\n\u001b[1;32m      3\u001b[0m \u001b[0mq\u001b[0m \u001b[0;34m=\u001b[0m \u001b[0munparse\u001b[0m\u001b[0;34m(\u001b[0m\u001b[0mv\u001b[0m\u001b[0;34m)\u001b[0m\u001b[0;34m\u001b[0m\u001b[0;34m\u001b[0m\u001b[0m\n\u001b[0;32m----> 4\u001b[0;31m \u001b[0mdump\u001b[0m\u001b[0;34m(\u001b[0m\u001b[0mv\u001b[0m\u001b[0;34m.\u001b[0m\u001b[0mbody\u001b[0m\u001b[0;34m[\u001b[0m\u001b[0;36m0\u001b[0m\u001b[0;34m]\u001b[0m\u001b[0;34m.\u001b[0m\u001b[0mvalue\u001b[0m\u001b[0;34m)\u001b[0m\u001b[0;34m\u001b[0m\u001b[0;34m\u001b[0m\u001b[0m\n\u001b[0m\u001b[1;32m      5\u001b[0m \u001b[0mprint\u001b[0m\u001b[0;34m(\u001b[0m\u001b[0mq\u001b[0m\u001b[0;34m)\u001b[0m\u001b[0;34m\u001b[0m\u001b[0;34m\u001b[0m\u001b[0m\n",
      "\u001b[0;31mAttributeError\u001b[0m: 'Compare' object has no attribute 'body'"
     ]
    }
   ],
   "source": [
    "v = strip_parse('a<(a+b)').body[0].value\n",
    "print(dump(v))\n",
    "q = unparse(v)\n",
    "dump(v.body[0].value)\n",
    "print(q)"
   ]
  },
  {
   "cell_type": "code",
   "execution_count": 170,
   "metadata": {},
   "outputs": [
    {
     "name": "stdout",
     "output_type": "stream",
     "text": [
      "x ** (1 / n - 1) / n\n"
     ]
    }
   ],
   "source": [
    "a='(((x)**(((1)/(n)) - (1)))/(n))'\n",
    "b=strip_parse(a).body[0].value\n",
    "print(unparse(b))\n",
    "x**(1/n - 1)/n "
   ]
  },
  {
   "cell_type": "code",
   "execution_count": 121,
   "metadata": {},
   "outputs": [
    {
     "ename": "AttributeError",
     "evalue": "'set' object has no attribute 'union_update'",
     "output_type": "error",
     "traceback": [
      "\u001b[0;31m---------------------------------------------------------------------------\u001b[0m",
      "\u001b[0;31mAttributeError\u001b[0m                            Traceback (most recent call last)",
      "\u001b[0;32m<ipython-input-121-cb200f2384d8>\u001b[0m in \u001b[0;36m<module>\u001b[0;34m\u001b[0m\n\u001b[1;32m      1\u001b[0m \u001b[0ms\u001b[0m \u001b[0;34m=\u001b[0m \u001b[0;34m{\u001b[0m\u001b[0;36m1\u001b[0m\u001b[0;34m,\u001b[0m\u001b[0;36m2\u001b[0m\u001b[0;34m,\u001b[0m\u001b[0;36m3\u001b[0m\u001b[0;34m}\u001b[0m\u001b[0;34m\u001b[0m\u001b[0;34m\u001b[0m\u001b[0m\n\u001b[0;32m----> 2\u001b[0;31m \u001b[0ms\u001b[0m\u001b[0;34m.\u001b[0m\u001b[0munion_update\u001b[0m\u001b[0;34m(\u001b[0m\u001b[0;34m[\u001b[0m\u001b[0;36m4\u001b[0m\u001b[0;34m,\u001b[0m\u001b[0;36m5\u001b[0m\u001b[0;34m,\u001b[0m\u001b[0;36m6\u001b[0m\u001b[0;34m]\u001b[0m\u001b[0;34m)\u001b[0m\u001b[0;34m\u001b[0m\u001b[0;34m\u001b[0m\u001b[0m\n\u001b[0m",
      "\u001b[0;31mAttributeError\u001b[0m: 'set' object has no attribute 'union_update'"
     ]
    }
   ],
   "source": [
    "s = {1,2,3}\n",
    "s.union_update([4,5,6])"
   ]
  },
  {
   "cell_type": "code",
   "execution_count": 126,
   "metadata": {},
   "outputs": [
    {
     "ename": "SyntaxError",
     "evalue": "expression cannot contain assignment, perhaps you meant \"==\"? (<ipython-input-126-0ebec95ad7cd>, line 5)",
     "output_type": "error",
     "traceback": [
      "\u001b[0;36m  File \u001b[0;32m\"<ipython-input-126-0ebec95ad7cd>\"\u001b[0;36m, line \u001b[0;32m5\u001b[0m\n\u001b[0;31m    sorted(varsByCalc[calc][depVar], key=lambda varsByCalc[calc][depVar]: -1 * float('inf') if varsByCalc[calc][depVar] is None else varsByCalc[calc][depVar])\u001b[0m\n\u001b[0m                                     ^\u001b[0m\n\u001b[0;31mSyntaxError\u001b[0m\u001b[0;31m:\u001b[0m expression cannot contain assignment, perhaps you meant \"==\"?\n"
     ]
    }
   ],
   "source": [
    "varsByCalc={'test_max': {'T_2_maximum': (None, 50)}}\n",
    "for calc in varsByCalc:\n",
    "    for depVar in varsByCalc[calc]:\n",
    "        varsByCalc[calc][depVar] = list(varsByCalc[calc][depVar])\n",
    "        sorted(varsByCalc[calc][depVar], key=lambda varsByCalc[calc][depVar]: -1 * float('inf') if varsByCalc[calc][depVar] is None else varsByCalc[calc][depVar])\n",
    "#         sorted(varsByCalc[calc][depVar])"
   ]
  },
  {
   "cell_type": "code",
   "execution_count": 142,
   "metadata": {},
   "outputs": [
    {
     "data": {
      "text/plain": [
       "set()"
      ]
     },
     "execution_count": 142,
     "metadata": {},
     "output_type": "execute_result"
    }
   ],
   "source": [
    "S = set([1,2,3])\n",
    "T = set([1,2,3])\n",
    "S-T\n"
   ]
  },
  {
   "cell_type": "code",
   "execution_count": 138,
   "metadata": {},
   "outputs": [],
   "source": [
    "a = [                                                                                                                       ('v_sP', 0.8),                                                                                                          ('v_sT', 1.0),                                                                                                          ('v_mP', 0.8),                                                                                                          ('v_mT', 0.7),                                                                                                          ('K_mP', 0.2),                                                                                                          ('K_mT', 0.2),                                                                                                          ('k_sP', 0.9),                                                                                                          ('k_sT', 0.9),                                                                                                          ('v_dP', 2.0),                                                                                                          ('v_dT', 2.0),                                                                                                          ('k_1', 1.2),                                                                                                           ('k_2', 0.2),                                                                                                           ('k_3', 1.2),                                                                                                           ('k_4', 0.6),                                                                                                           ('K_IP', 1.0),                                                                                                          ('K_IT', 1.0),                                                                                                          ('K_dP', 0.2),                                                                                                          ('K_dT', 0.2),                                                                                                          ('n', 4),                                                                                                               ('K_1P', 2.0),                                                                                                          ('K_2P', 2.0),                                                                                                          ('K_3P', 2.0),                                                                                                          ('K_4P', 2.0),                                                                                                          ('K_1T', 2.0),                                                                                                          ('K_2T', 2.0),                                                                                                          ('K_3T', 2.0),                                                                                                          ('K_4T', 2.0),                                                                                                          ('k_d', 0.01),                                                                                                          ('k_dC', 0.01),                                                                                                         ('k_dN', 0.01),                                                                                                         ('V_1P', 8.0),                                                                                                          ('V_1T', 8.0),                                                                                                          ('V_2P', 1.0),                                                                                                          ('V_2T', 1.0),                                                                                                          ('V_3P', 8.0),                                                                                                          ('V_3T', 8.0),                                                                                                          ('V_4P', 1.0),                                                                                                          ('V_4T', 1.0),                                                                                                          ]       "
   ]
  },
  {
   "cell_type": "code",
   "execution_count": 139,
   "metadata": {},
   "outputs": [],
   "source": [
    "b = [                                                                                                                       ('k_2', 0.2),                                                                                                           ('K_2T', 2.0),                                                                                                          ('K_IT', 1.0),                                                                                                          ('K_dT', 0.2),                                                                                                          ('K_3T', 2.0),                                                                                                          ('K_2P', 2.0),                                                                                                          ('K_IP', 1.0),                                                                                                          ('K_dP', 0.2),                                                                                                          ('k_4', 0.6),                                                                                                           ('K_mP', 0.2),                                                                                                          ('K_mT', 0.2),                                                                                                          ('V_4T', 1.0),                                                                                                          ('v_sP', 0.8),                                                                                                          ('v_mP', 0.8),                                                                                                          ('n', 4),                                                                                                               ('v_sT', 1.0),                                                                                                          ('v_mT', 0.7),                                                                                                          ('V_1T', 8.0),                                                                                                          ('V_4P', 1.0),                                                                                                          ('V_1P', 8.0),                                                                                                          ('k_1', 1.2),                                                                                                           ('v_dT', 2.0),                                                                                                          ('k_3', 1.2),                                                                                                           ('k_sT', 0.9),                                                                                                          ('v_dP', 2.0),                                                                                                          ('k_sP', 0.9),                                                                                                          ('k_dN', 0.01),                                                                                                         ('K_1T', 2.0),                                                                                                          ('K_1P', 2.0),                                                                                                          ('K_3P', 2.0),                                                                                                          ('V_3P', 8.0),                                                                                                          ('k_dC', 0.01),                                                                                                         ('K_4T', 2.0),                                                                                                          ('V_2P', 1.0),                                                                                                          ('V_3T', 8.0),                                                                                                          ('k_d', 0.01),                                                                                                          ('K_4P', 2.0),                                                                                                          ('V_2T', 1.0),                                                                                                          ] "
   ]
  },
  {
   "cell_type": "code",
   "execution_count": 141,
   "metadata": {},
   "outputs": [
    {
     "ename": "TypeError",
     "evalue": "unsupported operand type(s) for -: 'list' and 'list'",
     "output_type": "error",
     "traceback": [
      "\u001b[0;31m---------------------------------------------------------------------------\u001b[0m",
      "\u001b[0;31mTypeError\u001b[0m                                 Traceback (most recent call last)",
      "\u001b[0;32m<ipython-input-141-cbde621da984>\u001b[0m in \u001b[0;36m<module>\u001b[0;34m\u001b[0m\n\u001b[1;32m      1\u001b[0m \u001b[0;31m# d = set(a).intersection(set(b))\u001b[0m\u001b[0;34m\u001b[0m\u001b[0;34m\u001b[0m\u001b[0;34m\u001b[0m\u001b[0m\n\u001b[1;32m      2\u001b[0m \u001b[0;31m# print(d)\u001b[0m\u001b[0;34m\u001b[0m\u001b[0;34m\u001b[0m\u001b[0;34m\u001b[0m\u001b[0m\n\u001b[0;32m----> 3\u001b[0;31m \u001b[0me\u001b[0m \u001b[0;34m=\u001b[0m \u001b[0;34m(\u001b[0m\u001b[0ma\u001b[0m\u001b[0;34m)\u001b[0m \u001b[0;34m-\u001b[0m \u001b[0;34m(\u001b[0m\u001b[0mb\u001b[0m\u001b[0;34m)\u001b[0m\u001b[0;34m\u001b[0m\u001b[0;34m\u001b[0m\u001b[0m\n\u001b[0m\u001b[1;32m      4\u001b[0m \u001b[0mprint\u001b[0m\u001b[0;34m(\u001b[0m\u001b[0;34m\"wwwwwwwww\"\u001b[0m\u001b[0;34m,\u001b[0m \u001b[0me\u001b[0m\u001b[0;34m)\u001b[0m\u001b[0;34m\u001b[0m\u001b[0;34m\u001b[0m\u001b[0m\n",
      "\u001b[0;31mTypeError\u001b[0m: unsupported operand type(s) for -: 'list' and 'list'"
     ]
    }
   ],
   "source": [
    "# d = set(a).intersection(set(b))\n",
    "# print(d)\n",
    "e = (a) - (b)\n",
    "print(\"wwwwwwwww\", e)"
   ]
  },
  {
   "cell_type": "code",
   "execution_count": 159,
   "metadata": {},
   "outputs": [],
   "source": [
    "c={'Keq': 2.5, 'cell': 1.0, 'k1': 0.1, 'k2': 0.15, 'T': 0.981682983153795, 'X0': 0.018317016846205035, 'X1': 3.2339110894780743, 'S1': 0.2804808523296553, 'time': 40.0}"
   ]
  },
  {
   "cell_type": "code",
   "execution_count": 160,
   "metadata": {},
   "outputs": [],
   "source": [
    "d={'S1': 0.018207307666971536, 'cell': 1.0, 'k2': 0.15, 'k1': 0.1, 'T': 0.0637255768349033, 'time': 40.0, 'X0': 0.018315878570987116, 'X1': 0.9179585445941111, 'Keq': 2.5}"
   ]
  },
  {
   "cell_type": "code",
   "execution_count": 164,
   "metadata": {},
   "outputs": [
    {
     "name": "stdout",
     "output_type": "stream",
     "text": [
      "0 ('Keq', 2.5)\n",
      "1 ('cell', 1.0)\n",
      "2 ('k1', 0.1)\n",
      "3 ('k2', 0.15)\n",
      "4 ('T', 0.981682983153795)\n",
      "5 ('X0', 0.018317016846205035)\n",
      "6 ('X1', 3.2339110894780743)\n",
      "7 ('S1', 0.2804808523296553)\n",
      "8 ('time', 40.0)\n"
     ]
    }
   ],
   "source": [
    "for k, i in enumerate(c.items()):\n",
    "    print(k,i)"
   ]
  },
  {
   "cell_type": "code",
   "execution_count": 165,
   "metadata": {},
   "outputs": [
    {
     "name": "stdout",
     "output_type": "stream",
     "text": [
      "0 ('S1', 0.018207307666971536)\n",
      "1 ('cell', 1.0)\n",
      "2 ('k2', 0.15)\n",
      "3 ('k1', 0.1)\n",
      "4 ('T', 0.0637255768349033)\n",
      "5 ('time', 40.0)\n",
      "6 ('X0', 0.018315878570987116)\n",
      "7 ('X1', 0.9179585445941111)\n",
      "8 ('Keq', 2.5)\n"
     ]
    }
   ],
   "source": [
    "for k, i in enumerate(d.items()):\n",
    "    print(k,i)"
   ]
  },
  {
   "cell_type": "code",
   "execution_count": 169,
   "metadata": {},
   "outputs": [
    {
     "data": {
      "text/plain": [
       "'ASD'"
      ]
     },
     "execution_count": 169,
     "metadata": {},
     "output_type": "execute_result"
    }
   ],
   "source": [
    "a=\"asd\"\n",
    "a.upper()"
   ]
  },
  {
   "cell_type": "code",
   "execution_count": 172,
   "metadata": {},
   "outputs": [
    {
     "name": "stdout",
     "output_type": "stream",
     "text": [
      "}\n"
     ]
    }
   ],
   "source": [
    "import os\n",
    "c_body = [\"}\"]\n",
    "c_body = os.linesep.join(c_body)\n",
    "print(c_body)"
   ]
  },
  {
   "cell_type": "code",
   "execution_count": 174,
   "metadata": {},
   "outputs": [
    {
     "name": "stdout",
     "output_type": "stream",
     "text": [
      "0\n"
     ]
    },
    {
     "data": {
      "text/plain": [
       "2"
      ]
     },
     "execution_count": 174,
     "metadata": {},
     "output_type": "execute_result"
    }
   ],
   "source": [
    "l= []\n",
    "print(len(l))\n",
    "5//2"
   ]
  },
  {
   "cell_type": "code",
   "execution_count": 175,
   "metadata": {},
   "outputs": [
    {
     "ename": "SyntaxError",
     "evalue": "invalid syntax (<ipython-input-175-1dea6c083465>, line 1)",
     "output_type": "error",
     "traceback": [
      "\u001b[0;36m  File \u001b[0;32m\"<ipython-input-175-1dea6c083465>\"\u001b[0;36m, line \u001b[0;32m1\u001b[0m\n\u001b[0;31m    a=[                                                                                                                                                                    ('basic', <SloppyCell.ReactionNetworks.Components.Compartment object at 0x7f9ce9db9df0>),                                                                            ('x', <SloppyCell.ReactionNetworks.Components.Species object at 0x7f9ce9c98040>),                                                                                    ('A', <SloppyCell.ReactionNetworks.Components.Parameter object at 0x7f9ce9c98070>),                                                                                  ('y', <SloppyCell.ReactionNetworks.Components.Species object at 0x7f9ce9c98130>),                                                                                    ('B', <SloppyCell.ReactionNetworks.Components.Parameter object at 0x7f9ce9c98160>),                                                                                  ]\u001b[0m\n\u001b[0m                                                                                                                                                                                     ^\u001b[0m\n\u001b[0;31mSyntaxError\u001b[0m\u001b[0;31m:\u001b[0m invalid syntax\n"
     ]
    }
   ],
   "source": [
    "a=[ ('basic', <SloppyCell.ReactionNetworks.Components.Compartment object at 0x7f9ce9db9df0>),                                                                                                                                                      ('basic', <SloppyCell.ReactionNetworks.Components.Compartment object at 0x7f9ce9db9df0>),                                                                            ('x', <SloppyCell.ReactionNetworks.Components.Species object at 0x7f9ce9c98040>),                                                                                    ('A', <SloppyCell.ReactionNetworks.Components.Parameter object at 0x7f9ce9c98070>),                                                                                  ('y', <SloppyCell.ReactionNetworks.Components.Species object at 0x7f9ce9c98130>),                                                                                    ('B', <SloppyCell.ReactionNetworks.Components.Parameter object at 0x7f9ce9c98160>),                                                                                  ]   "
   ]
  },
  {
   "cell_type": "code",
   "execution_count": 177,
   "metadata": {},
   "outputs": [
    {
     "ename": "SyntaxError",
     "evalue": "invalid syntax (<ipython-input-177-527879f799a3>, line 1)",
     "output_type": "error",
     "traceback": [
      "\u001b[0;36m  File \u001b[0;32m\"<ipython-input-177-527879f799a3>\"\u001b[0;36m, line \u001b[0;32m1\u001b[0m\n\u001b[0;31m    a=[('x', <SloppyCell.ReactionNetworks.Components.Species object at 0x7f9ce9c98040>),('y', <SloppyCell.ReactionNetworks.Components.Species object at 0x7f9ce9c98130>),('B', <SloppyCell.ReactionNetworks.Components.Parameter object at 0x7f9ce9c98160>)]\u001b[0m\n\u001b[0m             ^\u001b[0m\n\u001b[0;31mSyntaxError\u001b[0m\u001b[0;31m:\u001b[0m invalid syntax\n"
     ]
    }
   ],
   "source": [
    "a=[('x', <SloppyCell.ReactionNetworks.Components.Species object at 0x7f9ce9c98040>),('y', <SloppyCell.ReactionNetworks.Components.Species object at 0x7f9ce9c98130>),('B', <SloppyCell.ReactionNetworks.Components.Parameter object at 0x7f9ce9c98160>)]"
   ]
  },
  {
   "cell_type": "code",
   "execution_count": 180,
   "metadata": {},
   "outputs": [
    {
     "ename": "AttributeError",
     "evalue": "'list' object has no attribute 'has_key'",
     "output_type": "error",
     "traceback": [
      "\u001b[0;31m---------------------------------------------------------------------------\u001b[0m",
      "\u001b[0;31mAttributeError\u001b[0m                            Traceback (most recent call last)",
      "\u001b[0;32m<ipython-input-180-341110efaf0e>\u001b[0m in \u001b[0;36m<module>\u001b[0;34m\u001b[0m\n\u001b[1;32m      1\u001b[0m \u001b[0ma\u001b[0m\u001b[0;34m=\u001b[0m\u001b[0;34m[\u001b[0m\u001b[0;34m(\u001b[0m\u001b[0;34m'x'\u001b[0m\u001b[0;34m,\u001b[0m \u001b[0;36m1\u001b[0m\u001b[0;34m)\u001b[0m\u001b[0;34m,\u001b[0m \u001b[0;34m(\u001b[0m\u001b[0;34m'y'\u001b[0m\u001b[0;34m,\u001b[0m \u001b[0;36m2\u001b[0m\u001b[0;34m)\u001b[0m\u001b[0;34m]\u001b[0m\u001b[0;34m\u001b[0m\u001b[0;34m\u001b[0m\u001b[0m\n\u001b[0;32m----> 2\u001b[0;31m \u001b[0ma\u001b[0m\u001b[0;34m.\u001b[0m\u001b[0mhas_key\u001b[0m\u001b[0;34m(\u001b[0m\u001b[0;34m'x'\u001b[0m\u001b[0;34m)\u001b[0m\u001b[0;34m\u001b[0m\u001b[0;34m\u001b[0m\u001b[0m\n\u001b[0m",
      "\u001b[0;31mAttributeError\u001b[0m: 'list' object has no attribute 'has_key'"
     ]
    }
   ],
   "source": [
    "a=[('x', 1), ('y', 2)]\n",
    "a.has_key('x')"
   ]
  }
 ],
 "metadata": {
  "kernelspec": {
   "display_name": "Python 3",
   "language": "python",
   "name": "python3"
  },
  "language_info": {
   "codemirror_mode": {
    "name": "ipython",
    "version": 3
   },
   "file_extension": ".py",
   "mimetype": "text/x-python",
   "name": "python",
   "nbconvert_exporter": "python",
   "pygments_lexer": "ipython3",
   "version": "3.9.5"
  }
 },
 "nbformat": 4,
 "nbformat_minor": 2
}
