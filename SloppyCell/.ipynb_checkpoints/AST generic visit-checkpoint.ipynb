{
 "cells": [
  {
   "cell_type": "code",
   "execution_count": 5,
   "metadata": {},
   "outputs": [],
   "source": [
    "from ast import *"
   ]
  },
  {
   "cell_type": "code",
   "execution_count": 23,
   "metadata": {},
   "outputs": [],
   "source": [
    "x = \"(2+4)/(3+8)\""
   ]
  },
  {
   "cell_type": "code",
   "execution_count": 25,
   "metadata": {},
   "outputs": [],
   "source": [
    "def strip_parse(x):\n",
    "    return parse(x)\n",
    "\n",
    "# def _collect_num_denom(tree, nums, denoms):\n",
    "#     for node in walk(tree):\n",
    "#         if isinstance(node, BinOp):\n",
    "#             print(node)\n",
    "#             if not (isinstance(node.op, Mult) or isinstance(node.op, Div)):\n",
    "#                 print(\"enterd here 1st\")\n",
    "#             if isinstance(node.left, Div) or isinstance(node.left, Mult):\n",
    "#                 print(\"entered here 2nd\")\n",
    "#         else:\n",
    "#             print(\"entered here 3rd\")\n",
    "\n",
    "class PowForDoubleStar(NodeVisitor):\n",
    "    def visit_BinOp(self, node):\n",
    "        node.left = self.visit(node.left)\n",
    "        node.right = self.visit(node.right)\n",
    "        print(node)\n",
    "        print(node)\n",
    "        if not (isinstance(node.op, Mult) or isinstance(node.op, Div)):\n",
    "            self.nums.append(node)\n",
    "           \n",
    "        if isinstance(node.left, Div) or isinstance(node.left, Mult):\n",
    "            print(\"entered here\")\n",
    "        else:\n",
    "            self.nums.append(node.left)\n",
    "        if isinstance(node.right, Div) or isinstance(node.right, Mult):\n",
    "            if isinstance(node, Mult):\n",
    "                _collect_num_denom(node.right, nums, denoms)\n",
    "            elif isinstance(node, Div):\n",
    "                _collect_num_denom(node.right, denoms, nums)\n",
    "        else:\n",
    "            if isinstance(node, Mult):\n",
    "                self.nums.append(node.right)\n",
    "            elif isinstance(node, Div):\n",
    "                denoms.append(node.right)\n",
    "        self.generic_visit(node)"
   ]
  },
  {
   "cell_type": "code",
   "execution_count": 26,
   "metadata": {},
   "outputs": [
    {
     "name": "stdout",
     "output_type": "stream",
     "text": [
      "Module(body=[Expr(value=BinOp(left=BinOp(left=Num(n=2), op=Add(), right=Num(n=4)), op=Div(), right=BinOp(left=Num(n=3), op=Add(), right=Num(n=8))))])\n",
      "entered here 3rd\n",
      "entered here 3rd\n",
      "<_ast.BinOp object at 0x7f686812d850>\n",
      "<_ast.BinOp object at 0x7f686812da90>\n",
      "enterd here 1st\n",
      "entered here 3rd\n",
      "<_ast.BinOp object at 0x7f686812da50>\n",
      "enterd here 1st\n",
      "entered here 3rd\n",
      "entered here 3rd\n",
      "entered here 3rd\n",
      "entered here 3rd\n",
      "entered here 3rd\n",
      "entered here 3rd\n"
     ]
    }
   ],
   "source": [
    "tree = strip_parse(x)\n",
    "print(dump(tree))\n",
    "_collect_num_denom(tree, [], [])"
   ]
  }
 ],
 "metadata": {
  "kernelspec": {
   "display_name": "Python 3",
   "language": "python",
   "name": "python3"
  },
  "language_info": {
   "codemirror_mode": {
    "name": "ipython",
    "version": 2
   },
   "file_extension": ".py",
   "mimetype": "text/x-python",
   "name": "python",
   "nbconvert_exporter": "python",
   "pygments_lexer": "ipython2",
   "version": "2.7.18"
  }
 },
 "nbformat": 4,
 "nbformat_minor": 2
}
