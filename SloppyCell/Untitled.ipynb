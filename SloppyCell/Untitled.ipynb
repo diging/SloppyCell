{
 "cells": [
  {
   "cell_type": "code",
   "execution_count": 51,
   "metadata": {},
   "outputs": [],
   "source": [
    "from SloppyCell.ExprManip.AST import *"
   ]
  },
  {
   "cell_type": "code",
   "execution_count": 116,
   "metadata": {},
   "outputs": [
    {
     "name": "stdout",
     "output_type": "stream",
     "text": [
      "Module(body=[Expr(value=BoolOp(op=And(), values=[BinOp(left=BinOp(left=BinOp(left=BinOp(left=Constant(value=2, kind=None), op=Pow(), right=Constant(value=3, kind=None)), op=Add(), right=BinOp(left=Constant(value=4, kind=None), op=Pow(), right=Constant(value=3, kind=None))), op=Add(), right=BinOp(left=Constant(value=3, kind=None), op=Div(), right=Constant(value=4, kind=None))), op=Add(), right=Constant(value=2, kind=None)), Constant(value=2, kind=None)]))], type_ignores=[])\n",
      "[<_ast.Expr object at 0x7f6ee7541d60>]\n",
      "[]\n"
     ]
    }
   ],
   "source": [
    "import ast\n",
    "x = \"2**3 + 4**3 + (3/4) + 2 and 2\"\n",
    "tree = ast.parse(x)\n",
    "print(dump(tree))\n",
    "for fieldname, value in ast.iter_fields(tree):\n",
    "    field = fieldname\n",
    " \n",
    "    print(value)\n",
    "# if isinstance(tree, Pow):\n",
    "#     print \"entered\"\n",
    "#     tree = CallFunc(Name('pow'), [ast.left, ast.right], None, None)\n",
    "#     print tree"
   ]
  },
  {
   "cell_type": "code",
   "execution_count": 112,
   "metadata": {},
   "outputs": [
    {
     "ename": "SyntaxError",
     "evalue": "invalid syntax (<ipython-input-112-c7f5a9e6a446>, line 2)",
     "output_type": "error",
     "traceback": [
      "\u001b[0;36m  File \u001b[0;32m\"<ipython-input-112-c7f5a9e6a446>\"\u001b[0;36m, line \u001b[0;32m2\u001b[0m\n\u001b[0;31m    if isinstance(node, ast.Pow)\u001b[0m\n\u001b[0m                                ^\u001b[0m\n\u001b[0;31mSyntaxError\u001b[0m\u001b[0;31m:\u001b[0m invalid syntax\n"
     ]
    }
   ],
   "source": [
    "for node in ast.walk(tree):\n",
    "    if isinstance(node, ast.Pow)\n",
    "        node = Call(Name('pow'), [ast.left, ast.right)\n",
    "    \n",
    "    "
   ]
  },
  {
   "cell_type": "code",
   "execution_count": 125,
   "metadata": {},
   "outputs": [],
   "source": [
    "import ast\n",
    "class PowForDoubleStar(ast.NodeTransformer):\n",
    "    def visit_BinOp(self, node):\n",
    "        node.left = self.visit(node.left)\n",
    "        node.right = self.visit(node.right)\n",
    "\n",
    "        if isinstance(node.op, ast.Pow):\n",
    "            node = ast.copy_location(\n",
    "                       ast.Call(func=Name('pow'),\n",
    "                                args=[node.left, node.right],\n",
    "                                keywords=[]\n",
    "                               ),\n",
    "                       node\n",
    "                   )\n",
    "        return node\n",
    "    def visit_Constant(self, node):\n",
    "        if isinstance(node, ast.Constant) and isinstance(node.value, int):\n",
    "            print(\"entered here\")\n",
    "            node.value = float(node.value)\n",
    "        return node\n",
    "    def visit_And(self, node):\n",
    "        if isinstance(node, ast.And):\n",
    "            node = ast.copy_location(\n",
    "                       ast.Call(func=Name('&&'),\n",
    "                                keywords=[]\n",
    "                               ),\n",
    "                       node\n",
    "                   )\n",
    "            return node\n",
    "    def visit_Or(self, node):\n",
    "        if isinstance(node, ast.Or):\n",
    "            node = ast.copy_location(\n",
    "                       ast.Call(func=Name('||'),\n",
    "                                keywords=[]\n",
    "                               ),\n",
    "                       node\n",
    "                   )\n",
    "            return node\n",
    "    def visit_Or(self, node):\n",
    "        if isinstance(node, ast.Or):\n",
    "            node = ast.copy_location(\n",
    "                       ast.Call(func=Name('!(%s)'),\n",
    "                                keywords=[]\n",
    "                               ),\n",
    "                       node\n",
    "                   )\n",
    "            return node\n"
   ]
  },
  {
   "cell_type": "code",
   "execution_count": 126,
   "metadata": {},
   "outputs": [
    {
     "name": "stdout",
     "output_type": "stream",
     "text": [
      "entered here\n",
      "entered here\n",
      "entered here\n",
      "entered here\n",
      "entered here\n",
      "entered here\n",
      "entered here\n",
      "entered here\n"
     ]
    }
   ],
   "source": [
    "\n",
    "x = \"2**3 + 4**3 + (3/4) + (2 and 3)\"\n",
    "tree = ast.parse(x)\n",
    "for node in ast.walk(tree):\n",
    "    node = PowForDoubleStar().visit(node)\n",
    "# visitor = PowForDoubleStar().visit(node)"
   ]
  },
  {
   "cell_type": "code",
   "execution_count": 127,
   "metadata": {},
   "outputs": [
    {
     "name": "stdout",
     "output_type": "stream",
     "text": [
      "Module(body=[Expr(value=BinOp(left=BinOp(left=BinOp(left=Call(func=Name(id='pow'), args=[Constant(value=2.0, kind=None), Constant(value=3.0, kind=None)], keywords=[]), op=Add(), right=Call(func=Name(id='pow'), args=[Constant(value=4.0, kind=None), Constant(value=3.0, kind=None)], keywords=[])), op=Add(), right=BinOp(left=Constant(value=3.0, kind=None), op=Div(), right=Constant(value=4.0, kind=None))), op=Add(), right=BoolOp(op=Call(func=Name(id='&&'), keywords=[]), values=[Constant(value=2.0, kind=None), Constant(value=3.0, kind=None)])))], type_ignores=[])\n"
     ]
    }
   ],
   "source": [
    "print(dump(tree))\n",
    "# print(ast.unparse(tree))"
   ]
  },
  {
   "cell_type": "code",
   "execution_count": 3,
   "metadata": {},
   "outputs": [],
   "source": [
    " x = \"1+2\""
   ]
  },
  {
   "cell_type": "code",
   "execution_count": 49,
   "metadata": {},
   "outputs": [
    {
     "name": "stdout",
     "output_type": "stream",
     "text": [
      "<class 'float'>\n"
     ]
    },
    {
     "ename": "AttributeError",
     "evalue": "'Pow' object has no attribute 'left'",
     "output_type": "error",
     "traceback": [
      "\u001b[0;31m---------------------------------------------------------------------------\u001b[0m",
      "\u001b[0;31mAttributeError\u001b[0m                            Traceback (most recent call last)",
      "\u001b[0;32m<ipython-input-49-19debf73c39e>\u001b[0m in \u001b[0;36m<module>\u001b[0;34m\u001b[0m\n\u001b[1;32m     11\u001b[0m         \u001b[0mprint\u001b[0m\u001b[0;34m(\u001b[0m\u001b[0mtype\u001b[0m\u001b[0;34m(\u001b[0m\u001b[0mnode\u001b[0m\u001b[0;34m.\u001b[0m\u001b[0mvalue\u001b[0m\u001b[0;34m)\u001b[0m\u001b[0;34m)\u001b[0m\u001b[0;34m\u001b[0m\u001b[0;34m\u001b[0m\u001b[0m\n\u001b[1;32m     12\u001b[0m     \u001b[0;32mif\u001b[0m \u001b[0misinstance\u001b[0m\u001b[0;34m(\u001b[0m\u001b[0mnode\u001b[0m\u001b[0;34m,\u001b[0m \u001b[0mast\u001b[0m\u001b[0;34m.\u001b[0m\u001b[0mPow\u001b[0m\u001b[0;34m)\u001b[0m\u001b[0;34m:\u001b[0m\u001b[0;34m\u001b[0m\u001b[0;34m\u001b[0m\u001b[0m\n\u001b[0;32m---> 13\u001b[0;31m         \u001b[0mnode\u001b[0m \u001b[0;34m=\u001b[0m \u001b[0mCall\u001b[0m\u001b[0;34m(\u001b[0m\u001b[0mName\u001b[0m\u001b[0;34m(\u001b[0m\u001b[0;34m'pow'\u001b[0m\u001b[0;34m)\u001b[0m\u001b[0;34m,\u001b[0m \u001b[0;34m[\u001b[0m\u001b[0mnode\u001b[0m\u001b[0;34m.\u001b[0m\u001b[0mleft\u001b[0m\u001b[0;34m,\u001b[0m \u001b[0mnode\u001b[0m\u001b[0;34m.\u001b[0m\u001b[0mright\u001b[0m\u001b[0;34m]\u001b[0m\u001b[0;34m,\u001b[0m \u001b[0;32mNone\u001b[0m\u001b[0;34m,\u001b[0m \u001b[0;32mNone\u001b[0m\u001b[0;34m)\u001b[0m\u001b[0;34m\u001b[0m\u001b[0;34m\u001b[0m\u001b[0m\n\u001b[0m\u001b[1;32m     14\u001b[0m \u001b[0;31m#         node = AST.recurse_down_tree(ast, _make_c_compatible_ast)\u001b[0m\u001b[0;34m\u001b[0m\u001b[0;34m\u001b[0m\u001b[0;34m\u001b[0m\u001b[0m\n\u001b[1;32m     15\u001b[0m \u001b[0;34m\u001b[0m\u001b[0m\n",
      "\u001b[0;31mAttributeError\u001b[0m: 'Pow' object has no attribute 'left'"
     ]
    }
   ],
   "source": [
    "import ast\n",
    "SOURCE = \"\"\"\n",
    "def hello(msg):\n",
    "    a = 21 ** 2\n",
    "    print(msg, a)\n",
    "\"\"\"\n",
    "tree = ast.parse(SOURCE)\n",
    "for node in ast.walk(tree):\n",
    "    if isinstance(node, ast.Constant) and isinstance(node.value, int):\n",
    "        node.value = float(node.value)\n",
    "        print(type(node.value))\n",
    "    if isinstance(node, ast.Pow):\n",
    "        node = Call(Name('pow'), [node.left, node.right], None, None)\n",
    "#         node = AST.recurse_down_tree(ast, _make_c_compatible_ast)\n",
    "        "
   ]
  },
  {
   "cell_type": "code",
   "execution_count": 19,
   "metadata": {},
   "outputs": [],
   "source": [
    "from ast import *"
   ]
  },
  {
   "cell_type": "code",
   "execution_count": 39,
   "metadata": {},
   "outputs": [
    {
     "name": "stdout",
     "output_type": "stream",
     "text": [
      "<_ast.Constant object at 0x7f6ee7878790>\n",
      "<_ast.Constant object at 0x7f6ee78787f0>\n"
     ]
    }
   ],
   "source": [
    "import ast\n",
    "\n",
    "\n",
    "class Visitor(ast.NodeTransformer):\n",
    "\n",
    "    def visit_Constant(self, node):\n",
    "        print(node)\n",
    "        self.generic_visit(node)\n",
    "\n",
    "\n",
    "\n",
    "SOURCE = \"\"\"\n",
    "def hello(msg):\n",
    "    a = 21 * 2\n",
    "    print(msg, a)\n",
    "\"\"\"\n",
    "\n",
    "\n",
    "if __name__ == \"__main__\":\n",
    "    root = ast.parse(SOURCE)\n",
    "    visitor = Visitor()\n",
    "    visitor.visit(root)"
   ]
  },
  {
   "cell_type": "code",
   "execution_count": null,
   "metadata": {},
   "outputs": [],
   "source": [
    "class RewriteName(ast.NodeTransformer):\n",
    "\n",
    "    def visit_Name(self, node):\n",
    "        return ast.copy_location(ast.Subscript(\n",
    "            value=ast.Name(id='data', ctx=ast.Load()),\n",
    "            slice=ast.Index(value=ast.Str(s=node.id)),\n",
    "            ctx=node.ctx\n",
    "        ), node)\n",
    "\n",
    "tree = RewriteConstant().visit(tree)"
   ]
  },
  {
   "cell_type": "code",
   "execution_count": 20,
   "metadata": {},
   "outputs": [],
   "source": [
    "tree = parse(x)"
   ]
  },
  {
   "cell_type": "code",
   "execution_count": 21,
   "metadata": {},
   "outputs": [
    {
     "name": "stdout",
     "output_type": "stream",
     "text": [
      "here\n"
     ]
    },
    {
     "ename": "AttributeError",
     "evalue": "'Module' object has no attribute 'name'",
     "output_type": "error",
     "traceback": [
      "\u001b[0;31m---------------------------------------------------------------------------\u001b[0m",
      "\u001b[0;31mAttributeError\u001b[0m                            Traceback (most recent call last)",
      "\u001b[0;32m<ipython-input-21-8a7b4953a559>\u001b[0m in \u001b[0;36m<module>\u001b[0;34m\u001b[0m\n\u001b[1;32m      5\u001b[0m         \u001b[0mself\u001b[0m\u001b[0;34m.\u001b[0m\u001b[0mgeneric_visit\u001b[0m\u001b[0;34m(\u001b[0m\u001b[0mnode\u001b[0m\u001b[0;34m)\u001b[0m\u001b[0;34m\u001b[0m\u001b[0;34m\u001b[0m\u001b[0m\n\u001b[1;32m      6\u001b[0m \u001b[0;34m\u001b[0m\u001b[0m\n\u001b[0;32m----> 7\u001b[0;31m \u001b[0mFuncLister\u001b[0m\u001b[0;34m(\u001b[0m\u001b[0;34m)\u001b[0m\u001b[0;34m.\u001b[0m\u001b[0mvisit_FunctionDef\u001b[0m\u001b[0;34m(\u001b[0m\u001b[0mtree\u001b[0m\u001b[0;34m)\u001b[0m\u001b[0;34m\u001b[0m\u001b[0;34m\u001b[0m\u001b[0m\n\u001b[0m",
      "\u001b[0;32m<ipython-input-21-8a7b4953a559>\u001b[0m in \u001b[0;36mvisit_FunctionDef\u001b[0;34m(self, node)\u001b[0m\n\u001b[1;32m      2\u001b[0m     \u001b[0;32mdef\u001b[0m \u001b[0mvisit_FunctionDef\u001b[0m\u001b[0;34m(\u001b[0m\u001b[0mself\u001b[0m\u001b[0;34m,\u001b[0m \u001b[0mnode\u001b[0m\u001b[0;34m)\u001b[0m\u001b[0;34m:\u001b[0m\u001b[0;34m\u001b[0m\u001b[0;34m\u001b[0m\u001b[0m\n\u001b[1;32m      3\u001b[0m         \u001b[0mprint\u001b[0m\u001b[0;34m(\u001b[0m\u001b[0;34m\"here\"\u001b[0m\u001b[0;34m)\u001b[0m\u001b[0;34m\u001b[0m\u001b[0;34m\u001b[0m\u001b[0m\n\u001b[0;32m----> 4\u001b[0;31m         \u001b[0mprint\u001b[0m\u001b[0;34m(\u001b[0m\u001b[0mnode\u001b[0m\u001b[0;34m.\u001b[0m\u001b[0mname\u001b[0m\u001b[0;34m)\u001b[0m\u001b[0;34m\u001b[0m\u001b[0;34m\u001b[0m\u001b[0m\n\u001b[0m\u001b[1;32m      5\u001b[0m         \u001b[0mself\u001b[0m\u001b[0;34m.\u001b[0m\u001b[0mgeneric_visit\u001b[0m\u001b[0;34m(\u001b[0m\u001b[0mnode\u001b[0m\u001b[0;34m)\u001b[0m\u001b[0;34m\u001b[0m\u001b[0;34m\u001b[0m\u001b[0m\n\u001b[1;32m      6\u001b[0m \u001b[0;34m\u001b[0m\u001b[0m\n",
      "\u001b[0;31mAttributeError\u001b[0m: 'Module' object has no attribute 'name'"
     ]
    }
   ],
   "source": [
    "class FuncLister(NodeVisitor):\n",
    "    def visit_FunctionDef(self, node):\n",
    "        print(\"here\")\n",
    "        print(node.name)\n",
    "        self.generic_visit(node)\n",
    "\n",
    "FuncLister().visit_FunctionDef(tree)"
   ]
  },
  {
   "cell_type": "code",
   "execution_count": 10,
   "metadata": {},
   "outputs": [
    {
     "name": "stdout",
     "output_type": "stream",
     "text": [
      "in else\n"
     ]
    },
    {
     "ename": "AttributeError",
     "evalue": "type object '_ast.AST' has no attribute 'recurse_down_tree'",
     "output_type": "error",
     "traceback": [
      "\u001b[0;31m---------------------------------------------------------------------------\u001b[0m",
      "\u001b[0;31mAttributeError\u001b[0m                            Traceback (most recent call last)",
      "\u001b[0;32m<ipython-input-10-687ef6dfbff4>\u001b[0m in \u001b[0;36m<module>\u001b[0;34m\u001b[0m\n\u001b[1;32m     25\u001b[0m \u001b[0;32melse\u001b[0m\u001b[0;34m:\u001b[0m\u001b[0;34m\u001b[0m\u001b[0;34m\u001b[0m\u001b[0m\n\u001b[1;32m     26\u001b[0m     \u001b[0mprint\u001b[0m\u001b[0;34m(\u001b[0m\u001b[0;34m\"in else\"\u001b[0m\u001b[0;34m)\u001b[0m\u001b[0;34m\u001b[0m\u001b[0;34m\u001b[0m\u001b[0m\n\u001b[0;32m---> 27\u001b[0;31m     \u001b[0mast\u001b[0m \u001b[0;34m=\u001b[0m \u001b[0mAST\u001b[0m\u001b[0;34m.\u001b[0m\u001b[0mrecurse_down_tree\u001b[0m\u001b[0;34m(\u001b[0m\u001b[0mast\u001b[0m\u001b[0;34m,\u001b[0m \u001b[0m_make_c_compatible_ast\u001b[0m\u001b[0;34m)\u001b[0m\u001b[0;34m\u001b[0m\u001b[0;34m\u001b[0m\u001b[0m\n\u001b[0m",
      "\u001b[0;31mAttributeError\u001b[0m: type object '_ast.AST' has no attribute 'recurse_down_tree'"
     ]
    }
   ],
   "source": [
    "if isinstance(ast, Pow):\n",
    "    ast = Call(Name('pow'), [ast.left, ast.right], None, None)\n",
    "    ast = AST.recurse_down_tree(ast, _make_c_compatible_ast)\n",
    "elif isinstance(ast, Constant) and isinstance(ast.value, int):\n",
    "    print(\"hereeeeeeeeeeeeeeeeeee\")\n",
    "    ast.value = float(ast.value)\n",
    "elif isinstance(ast, Subscript):\n",
    "    # These asts correspond to array[blah] and we shouldn't convert these\n",
    "    # to floats, so we don't recurse down the tree in this case.\n",
    "    pass\n",
    "# We need to subsitute the C logical operators. Unfortunately, they aren't\n",
    "# valid python syntax, so we have to cheat a little, using Compare and Name\n",
    "# nodes abusively. This abuse may not be future-proof... sigh...\n",
    "elif isinstance(ast, And):\n",
    "    nodes = AST.recurse_down_tree(ast.nodes, _make_c_compatible_ast)\n",
    "    ops = [('&&', node) for node in nodes[1:]]\n",
    "    ast = AST.Compare(nodes[0], ops)\n",
    "elif isinstance(ast, Or):\n",
    "    nodes = AST.recurse_down_tree(ast.nodes, _make_c_compatible_ast)\n",
    "    ops = [('||', node) for node in nodes[1:]]\n",
    "    ast = AST.Compare(nodes[0], ops)\n",
    "elif isinstance(ast, Not):\n",
    "    expr = AST.recurse_down_tree(ast.expr, _make_c_compatible_ast)\n",
    "    ast = AST.Name('!(%s)' % ast2str(expr))\n",
    "else:\n",
    "    print(\"in else\")\n",
    "    ast = AST.recurse_down_tree(ast, _make_c_compatible_ast)\n"
   ]
  },
  {
   "cell_type": "code",
   "execution_count": 30,
   "metadata": {},
   "outputs": [],
   "source": [
    "def make_c_compatible(expr):\n",
    "    ast = strip_parse(expr)\n",
    "    ast = _make_c_compatible_ast(ast)\n",
    "    return ast2str(ast)\n",
    "\n",
    "def _make_c_compatible_ast(ast):\n",
    "    if isinstance(ast, Pow):\n",
    "        ast = Call(Name('pow'), [ast.left, ast.right], None, None)\n",
    "        ast = AST.recurse_down_tree(ast, _make_c_compatible_ast)\n",
    "    elif isinstance(ast, Constant) and isinstance(ast.value, int):\n",
    "        ast.value = float(ast.value)\n",
    "    elif isinstance(ast, Subscript):\n",
    "        # These asts correspond to array[blah] and we shouldn't convert these\n",
    "        # to floats, so we don't recurse down the tree in this case.\n",
    "        pass\n",
    "    # We need to subsitute the C logical operators. Unfortunately, they aren't\n",
    "    # valid python syntax, so we have to cheat a little, using Compare and Name\n",
    "    # nodes abusively. This abuse may not be future-proof... sigh...\n",
    "    elif isinstance(ast, And):\n",
    "        nodes = AST.recurse_down_tree(ast.nodes, _make_c_compatible_ast)\n",
    "        ops = [('&&', node) for node in nodes[1:]]\n",
    "        ast = AST.Compare(nodes[0], ops)\n",
    "    elif isinstance(ast, Or):\n",
    "        nodes = AST.recurse_down_tree(ast.nodes, _make_c_compatible_ast)\n",
    "        ops = [('||', node) for node in nodes[1:]]\n",
    "        ast = AST.Compare(nodes[0], ops)\n",
    "    elif isinstance(ast, Not):\n",
    "        expr = AST.recurse_down_tree(ast.expr, _make_c_compatible_ast)\n",
    "        ast = AST.Name('!(%s)' % ast2str(expr))\n",
    "    else:\n",
    "        print(\"in else\")\n",
    "        ast = AST.recurse_down_tree(ast, _make_c_compatible_ast)\n",
    "    return ast"
   ]
  },
  {
   "cell_type": "code",
   "execution_count": 22,
   "metadata": {},
   "outputs": [
    {
     "ename": "AttributeError",
     "evalue": "'Module' object has no attribute 'FunctionDef'",
     "output_type": "error",
     "traceback": [
      "\u001b[0;31m---------------------------------------------------------------------------\u001b[0m",
      "\u001b[0;31mAttributeError\u001b[0m                            Traceback (most recent call last)",
      "\u001b[0;32m<ipython-input-22-bf63853d6489>\u001b[0m in \u001b[0;36m<module>\u001b[0;34m\u001b[0m\n\u001b[1;32m      1\u001b[0m \u001b[0;32mfor\u001b[0m \u001b[0mnode\u001b[0m \u001b[0;32min\u001b[0m \u001b[0mwalk\u001b[0m\u001b[0;34m(\u001b[0m\u001b[0mtree\u001b[0m\u001b[0;34m)\u001b[0m\u001b[0;34m:\u001b[0m\u001b[0;34m\u001b[0m\u001b[0;34m\u001b[0m\u001b[0m\n\u001b[0;32m----> 2\u001b[0;31m     \u001b[0;32mif\u001b[0m \u001b[0misinstance\u001b[0m\u001b[0;34m(\u001b[0m\u001b[0mnode\u001b[0m\u001b[0;34m,\u001b[0m \u001b[0mast\u001b[0m\u001b[0;34m.\u001b[0m\u001b[0mFunctionDef\u001b[0m\u001b[0;34m)\u001b[0m\u001b[0;34m:\u001b[0m\u001b[0;34m\u001b[0m\u001b[0;34m\u001b[0m\u001b[0m\n\u001b[0m\u001b[1;32m      3\u001b[0m         \u001b[0mprint\u001b[0m\u001b[0;34m(\u001b[0m\u001b[0mnode\u001b[0m\u001b[0;34m.\u001b[0m\u001b[0mname\u001b[0m\u001b[0;34m)\u001b[0m\u001b[0;34m\u001b[0m\u001b[0;34m\u001b[0m\u001b[0m\n",
      "\u001b[0;31mAttributeError\u001b[0m: 'Module' object has no attribute 'FunctionDef'"
     ]
    }
   ],
   "source": [
    "for node in walk(tree):\n",
    "    if isinstance(node, ast.FunctionDef):\n",
    "        print(node.name)"
   ]
  },
  {
   "cell_type": "code",
   "execution_count": 31,
   "metadata": {},
   "outputs": [
    {
     "data": {
      "text/plain": [
       "<_ast.Module at 0x7f6ee77f8340>"
      ]
     },
     "execution_count": 31,
     "metadata": {},
     "output_type": "execute_result"
    }
   ],
   "source": [
    "node = parse(str(x).strip())\n",
    "node"
   ]
  },
  {
   "cell_type": "code",
   "execution_count": 32,
   "metadata": {},
   "outputs": [
    {
     "name": "stdout",
     "output_type": "stream",
     "text": [
      "in else\n"
     ]
    },
    {
     "ename": "AttributeError",
     "evalue": "type object '_ast.AST' has no attribute 'recurse_down_tree'",
     "output_type": "error",
     "traceback": [
      "\u001b[0;31m---------------------------------------------------------------------------\u001b[0m",
      "\u001b[0;31mAttributeError\u001b[0m                            Traceback (most recent call last)",
      "\u001b[0;32m<ipython-input-32-5286fbac844e>\u001b[0m in \u001b[0;36m<module>\u001b[0;34m\u001b[0m\n\u001b[0;32m----> 1\u001b[0;31m \u001b[0mprint\u001b[0m\u001b[0;34m(\u001b[0m\u001b[0m_make_c_compatible_ast\u001b[0m\u001b[0;34m(\u001b[0m\u001b[0mx\u001b[0m\u001b[0;34m)\u001b[0m\u001b[0;34m)\u001b[0m\u001b[0;34m\u001b[0m\u001b[0;34m\u001b[0m\u001b[0m\n\u001b[0m",
      "\u001b[0;32m<ipython-input-30-e1633cc2af26>\u001b[0m in \u001b[0;36m_make_c_compatible_ast\u001b[0;34m(ast)\u001b[0m\n\u001b[1;32m     30\u001b[0m     \u001b[0;32melse\u001b[0m\u001b[0;34m:\u001b[0m\u001b[0;34m\u001b[0m\u001b[0;34m\u001b[0m\u001b[0m\n\u001b[1;32m     31\u001b[0m         \u001b[0mprint\u001b[0m\u001b[0;34m(\u001b[0m\u001b[0;34m\"in else\"\u001b[0m\u001b[0;34m)\u001b[0m\u001b[0;34m\u001b[0m\u001b[0;34m\u001b[0m\u001b[0m\n\u001b[0;32m---> 32\u001b[0;31m         \u001b[0mast\u001b[0m \u001b[0;34m=\u001b[0m \u001b[0mAST\u001b[0m\u001b[0;34m.\u001b[0m\u001b[0mrecurse_down_tree\u001b[0m\u001b[0;34m(\u001b[0m\u001b[0mast\u001b[0m\u001b[0;34m,\u001b[0m \u001b[0m_make_c_compatible_ast\u001b[0m\u001b[0;34m)\u001b[0m\u001b[0;34m\u001b[0m\u001b[0;34m\u001b[0m\u001b[0m\n\u001b[0m\u001b[1;32m     33\u001b[0m     \u001b[0;32mreturn\u001b[0m \u001b[0mast\u001b[0m\u001b[0;34m\u001b[0m\u001b[0;34m\u001b[0m\u001b[0m\n",
      "\u001b[0;31mAttributeError\u001b[0m: type object '_ast.AST' has no attribute 'recurse_down_tree'"
     ]
    }
   ],
   "source": [
    "print(_make_c_compatible_ast(x))"
   ]
  },
  {
   "cell_type": "code",
   "execution_count": null,
   "metadata": {},
   "outputs": [],
   "source": [
    "import ast\n",
    "class ASTExplorer:\n",
    "    def __init__(self, source):\n",
    "        self.tree = ast.parse(source, mode=\"exec\")\n",
    "        self.result = list()\n",
    "\n",
    "    class ASTResult:\n",
    "        def __init__(self, var, expr, vType):\n",
    "            self.var = var\n",
    "            self.expression = expr\n",
    "            self.vType = vType\n",
    "\n",
    "    def _getLineAssignment(self, lineno):\n",
    "        return next((node for node in ast.walk(self.tree) if isinstance(node, ast.Name) and node.lineno == lineno), None)\n",
    "\n",
    "    def getVariables(self):\n",
    "        for node in ast.walk(self.tree):\n",
    "            if not isinstance(node, ast.Assign):\n",
    "                continue\n",
    "            nodeValue = node.value\n",
    "            nodeVariable = self._getLineAssignment(node.lineno).id\n",
    "            if(isinstance(nodeValue, ast.Constant)):\n",
    "                nodeExpression = node.value.value\n",
    "                self.result.append(self.ASTResult(nodeVariable, nodeExpression, type(nodeExpression)))\n",
    "                continue\n",
    "            elif(isinstance(nodeValue, ast.Call)):\n",
    "                callFunc = nodeValue.func.id\n",
    "                callArgs = \"(\" + (\", \".join([str(x.value) for x in nodeValue.args])) + \")\"\n",
    "                self.result.append(self.ASTResult(nodeVariable, f\"{callFunc}{callArgs}\", ast.Call))\n",
    "            #elif... other type handling\n",
    "        return self.result"
   ]
  },
  {
   "cell_type": "code",
   "execution_count": 72,
   "metadata": {},
   "outputs": [
    {
     "name": "stdout",
     "output_type": "stream",
     "text": [
      "<__main__.Visitor object at 0x7f12c37f17c0>\n",
      "here\n",
      "in else\n"
     ]
    },
    {
     "data": {
      "text/plain": [
       "<_ast.Expression at 0x7f12c37f1970>"
      ]
     },
     "execution_count": 72,
     "metadata": {},
     "output_type": "execute_result"
    }
   ],
   "source": [
    "node = parse(str(\"1+2\").strip(), mode='eval')\n",
    "v = Visitor()\n",
    "print(v)\n",
    "v.visit(node)"
   ]
  },
  {
   "cell_type": "code",
   "execution_count": 1,
   "metadata": {},
   "outputs": [
    {
     "ename": "NameError",
     "evalue": "name 'NodeTransformer' is not defined",
     "output_type": "error",
     "traceback": [
      "\u001b[0;31m---------------------------------------------------------------------------\u001b[0m",
      "\u001b[0;31mNameError\u001b[0m                                 Traceback (most recent call last)",
      "\u001b[0;32m<ipython-input-1-56353abce5d5>\u001b[0m in \u001b[0;36m<module>\u001b[0;34m\u001b[0m\n\u001b[0;32m----> 1\u001b[0;31m \u001b[0;32mclass\u001b[0m \u001b[0mVisitor\u001b[0m\u001b[0;34m(\u001b[0m\u001b[0mNodeTransformer\u001b[0m\u001b[0;34m)\u001b[0m\u001b[0;34m:\u001b[0m\u001b[0;34m\u001b[0m\u001b[0;34m\u001b[0m\u001b[0m\n\u001b[0m\u001b[1;32m      2\u001b[0m     \u001b[0;32mdef\u001b[0m \u001b[0mvisit\u001b[0m\u001b[0;34m(\u001b[0m\u001b[0mself\u001b[0m\u001b[0;34m,\u001b[0m \u001b[0mtree\u001b[0m\u001b[0;34m)\u001b[0m\u001b[0;34m:\u001b[0m\u001b[0;34m\u001b[0m\u001b[0;34m\u001b[0m\u001b[0m\n\u001b[1;32m      3\u001b[0m         \u001b[0;32mfor\u001b[0m \u001b[0mast1\u001b[0m \u001b[0;32min\u001b[0m \u001b[0mwalk\u001b[0m\u001b[0;34m(\u001b[0m\u001b[0mtree\u001b[0m\u001b[0;34m)\u001b[0m\u001b[0;34m:\u001b[0m\u001b[0;34m\u001b[0m\u001b[0;34m\u001b[0m\u001b[0m\n\u001b[1;32m      4\u001b[0m             \u001b[0mprint\u001b[0m\u001b[0;34m(\u001b[0m\u001b[0;34m\"here\"\u001b[0m\u001b[0;34m,\u001b[0m \u001b[0;34m)\u001b[0m\u001b[0;34m\u001b[0m\u001b[0;34m\u001b[0m\u001b[0m\n\u001b[1;32m      5\u001b[0m             \u001b[0;32mif\u001b[0m \u001b[0misinstance\u001b[0m\u001b[0;34m(\u001b[0m\u001b[0mast1\u001b[0m\u001b[0;34m,\u001b[0m \u001b[0mPow\u001b[0m\u001b[0;34m)\u001b[0m\u001b[0;34m:\u001b[0m\u001b[0;34m\u001b[0m\u001b[0;34m\u001b[0m\u001b[0m\n",
      "\u001b[0;31mNameError\u001b[0m: name 'NodeTransformer' is not defined"
     ]
    }
   ],
   "source": [
    "class Visitor(NodeTransformer):\n",
    "    def visit(self, tree):\n",
    "        for ast1 in walk(tree):\n",
    "            print(\"here\", )\n",
    "            if isinstance(ast1, Pow):\n",
    "                ast1 = Call(Name('pow'), [ast1.left, ast1.right], None, None)\n",
    "                ast1 = recurse_down_tree(ast1, _make_c_compatible_ast)\n",
    "            elif isinstance(ast1, Constant) and isinstance(ast1.value, int):\n",
    "                ast1.value = float(ast1.value)\n",
    "            elif isinstance(ast1, Subscript):\n",
    "                # These asts correspond to array[blah] and we shouldn't convert these\n",
    "                # to floats, so we don't recurse down the tree in this case.\n",
    "                pass\n",
    "            # We need to subsitute the C logical operators. Unfortunately, they aren't\n",
    "            # valid python syntax, so we have to cheat a little, using Compare and Name\n",
    "            # nodes abusively. This abuse may not be future-proof... sigh...\n",
    "            elif isinstance(ast1, And):\n",
    "                nodes = recurse_down_tree(ast1.nodes, _make_c_compatible_ast)\n",
    "                ops = [('&&', node) for node in nodes[1:]]\n",
    "                ast1 = Compare(nodes[0], ops)\n",
    "            elif isinstance(ast1, Or):\n",
    "                nodes = recurse_down_tree(ast1.nodes, _make_c_compatible_ast)\n",
    "                ops = [('||', node) for node in nodes[1:]]\n",
    "                ast1 = Compare(nodes[0], ops)\n",
    "            elif isinstance(ast1, Not):\n",
    "                expr = recurse_down_tree(ast1.expr, _make_c_compatible_ast)\n",
    "                ast1 = Name('!(%s)' % ast2str(expr))\n",
    "            else:\n",
    "                print(\"in else\")\n",
    "                ast1 = recurse_down_tree(ast1, _make_c_compatible_ast)\n",
    "            return ast1\n",
    "\n",
    "\n",
    "    whitelist = (Name,Constant, Call, Subscript, Slice, Slice,Pow,USub,\n",
    "                 UAdd,MatMult,Div,Sub,Add,Compare, Not, And, Or, Expr)"
   ]
  },
  {
   "cell_type": "code",
   "execution_count": 132,
   "metadata": {},
   "outputs": [
    {
     "name": "stdout",
     "output_type": "stream",
     "text": [
      "Module(body=[Expr(value=BinOp(left=BinOp(left=BinOp(left=Constant(value=2), op=Add(), right=Name(id='x', ctx=Load())), op=Add(), right=Constant(value=1, kind=None)), op=Add(), right=Constant(value=1, kind=None)))], type_ignores=[])\n"
     ]
    }
   ],
   "source": [
    "import ast\n",
    "\n",
    "class Evaluator(ast.NodeTransformer):\n",
    "    ops = {\n",
    "        ast.Add: '+',\n",
    "        ast.Sub: '-',\n",
    "        ast.Mult: '*',\n",
    "        ast.Div: '/',\n",
    "        # define more here\n",
    "    }\n",
    "\n",
    "    def visit_BinOp(self, node):\n",
    "        self.generic_visit(node)\n",
    "        if isinstance(node.left, ast.Num) and isinstance(node.right, ast.Num):\n",
    "            value = eval(f'{node.left.n} {self.ops[type(node.op)]} {node.right.n}')\n",
    "            return ast.Num(n=value)\n",
    "        return node\n",
    "\n",
    "tree = ast.parse('1 + 1 + x + 1 + 1')\n",
    "tree = ast.fix_missing_locations(Evaluator().visit(tree))\n",
    "print(ast.dump(tree))"
   ]
  }
 ],
 "metadata": {
  "kernelspec": {
   "display_name": "Python 3",
   "language": "python",
   "name": "python3"
  },
  "language_info": {
   "codemirror_mode": {
    "name": "ipython",
    "version": 2
   },
   "file_extension": ".py",
   "mimetype": "text/x-python",
   "name": "python",
   "nbconvert_exporter": "python",
   "pygments_lexer": "ipython2",
   "version": "2.7.18"
  }
 },
 "nbformat": 4,
 "nbformat_minor": 5
}
